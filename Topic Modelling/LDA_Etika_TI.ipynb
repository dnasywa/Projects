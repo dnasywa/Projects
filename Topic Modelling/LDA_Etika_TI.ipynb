{
  "nbformat": 4,
  "nbformat_minor": 0,
  "metadata": {
    "colab": {
      "provenance": [],
      "include_colab_link": true
    },
    "kernelspec": {
      "name": "python3",
      "display_name": "Python 3"
    },
    "language_info": {
      "name": "python"
    },
    "widgets": {
      "application/vnd.jupyter.widget-state+json": {
        "e9d0645992c34d7db4ae993dd7b10f2a": {
          "model_module": "@jupyter-widgets/controls",
          "model_name": "HBoxModel",
          "model_module_version": "1.5.0",
          "state": {
            "_dom_classes": [],
            "_model_module": "@jupyter-widgets/controls",
            "_model_module_version": "1.5.0",
            "_model_name": "HBoxModel",
            "_view_count": null,
            "_view_module": "@jupyter-widgets/controls",
            "_view_module_version": "1.5.0",
            "_view_name": "HBoxView",
            "box_style": "",
            "children": [
              "IPY_MODEL_a88d5c176c6a4eb7978b3fb5585af940",
              "IPY_MODEL_6b2d0e7a548c4c7aa5cc2f4fcb5a7b2a",
              "IPY_MODEL_d5a4239650c84cc99038a03a11d7a39f"
            ],
            "layout": "IPY_MODEL_5b19a36ddf8d4f45a26cef602695b235"
          }
        },
        "a88d5c176c6a4eb7978b3fb5585af940": {
          "model_module": "@jupyter-widgets/controls",
          "model_name": "HTMLModel",
          "model_module_version": "1.5.0",
          "state": {
            "_dom_classes": [],
            "_model_module": "@jupyter-widgets/controls",
            "_model_module_version": "1.5.0",
            "_model_name": "HTMLModel",
            "_view_count": null,
            "_view_module": "@jupyter-widgets/controls",
            "_view_module_version": "1.5.0",
            "_view_name": "HTMLView",
            "description": "",
            "description_tooltip": null,
            "layout": "IPY_MODEL_6b49909205fa4e709720637a98d464a0",
            "placeholder": "​",
            "style": "IPY_MODEL_e287a75f45ae47d18d5787ce9309a00e",
            "value": "Pandas Apply: 100%"
          }
        },
        "6b2d0e7a548c4c7aa5cc2f4fcb5a7b2a": {
          "model_module": "@jupyter-widgets/controls",
          "model_name": "FloatProgressModel",
          "model_module_version": "1.5.0",
          "state": {
            "_dom_classes": [],
            "_model_module": "@jupyter-widgets/controls",
            "_model_module_version": "1.5.0",
            "_model_name": "FloatProgressModel",
            "_view_count": null,
            "_view_module": "@jupyter-widgets/controls",
            "_view_module_version": "1.5.0",
            "_view_name": "ProgressView",
            "bar_style": "success",
            "description": "",
            "description_tooltip": null,
            "layout": "IPY_MODEL_a26487a0e7134ac58d9ff92753c84bb8",
            "max": 620,
            "min": 0,
            "orientation": "horizontal",
            "style": "IPY_MODEL_21cd725a8a4b4d9381406e24146184df",
            "value": 620
          }
        },
        "d5a4239650c84cc99038a03a11d7a39f": {
          "model_module": "@jupyter-widgets/controls",
          "model_name": "HTMLModel",
          "model_module_version": "1.5.0",
          "state": {
            "_dom_classes": [],
            "_model_module": "@jupyter-widgets/controls",
            "_model_module_version": "1.5.0",
            "_model_name": "HTMLModel",
            "_view_count": null,
            "_view_module": "@jupyter-widgets/controls",
            "_view_module_version": "1.5.0",
            "_view_name": "HTMLView",
            "description": "",
            "description_tooltip": null,
            "layout": "IPY_MODEL_211126871c454db493441d450216e864",
            "placeholder": "​",
            "style": "IPY_MODEL_1d2a3ff783544d7b91145ff953d76364",
            "value": " 620/620 [00:00&lt;00:00, 23032.77it/s]"
          }
        },
        "5b19a36ddf8d4f45a26cef602695b235": {
          "model_module": "@jupyter-widgets/base",
          "model_name": "LayoutModel",
          "model_module_version": "1.2.0",
          "state": {
            "_model_module": "@jupyter-widgets/base",
            "_model_module_version": "1.2.0",
            "_model_name": "LayoutModel",
            "_view_count": null,
            "_view_module": "@jupyter-widgets/base",
            "_view_module_version": "1.2.0",
            "_view_name": "LayoutView",
            "align_content": null,
            "align_items": null,
            "align_self": null,
            "border": null,
            "bottom": null,
            "display": null,
            "flex": null,
            "flex_flow": null,
            "grid_area": null,
            "grid_auto_columns": null,
            "grid_auto_flow": null,
            "grid_auto_rows": null,
            "grid_column": null,
            "grid_gap": null,
            "grid_row": null,
            "grid_template_areas": null,
            "grid_template_columns": null,
            "grid_template_rows": null,
            "height": null,
            "justify_content": null,
            "justify_items": null,
            "left": null,
            "margin": null,
            "max_height": null,
            "max_width": null,
            "min_height": null,
            "min_width": null,
            "object_fit": null,
            "object_position": null,
            "order": null,
            "overflow": null,
            "overflow_x": null,
            "overflow_y": null,
            "padding": null,
            "right": null,
            "top": null,
            "visibility": null,
            "width": null
          }
        },
        "6b49909205fa4e709720637a98d464a0": {
          "model_module": "@jupyter-widgets/base",
          "model_name": "LayoutModel",
          "model_module_version": "1.2.0",
          "state": {
            "_model_module": "@jupyter-widgets/base",
            "_model_module_version": "1.2.0",
            "_model_name": "LayoutModel",
            "_view_count": null,
            "_view_module": "@jupyter-widgets/base",
            "_view_module_version": "1.2.0",
            "_view_name": "LayoutView",
            "align_content": null,
            "align_items": null,
            "align_self": null,
            "border": null,
            "bottom": null,
            "display": null,
            "flex": null,
            "flex_flow": null,
            "grid_area": null,
            "grid_auto_columns": null,
            "grid_auto_flow": null,
            "grid_auto_rows": null,
            "grid_column": null,
            "grid_gap": null,
            "grid_row": null,
            "grid_template_areas": null,
            "grid_template_columns": null,
            "grid_template_rows": null,
            "height": null,
            "justify_content": null,
            "justify_items": null,
            "left": null,
            "margin": null,
            "max_height": null,
            "max_width": null,
            "min_height": null,
            "min_width": null,
            "object_fit": null,
            "object_position": null,
            "order": null,
            "overflow": null,
            "overflow_x": null,
            "overflow_y": null,
            "padding": null,
            "right": null,
            "top": null,
            "visibility": null,
            "width": null
          }
        },
        "e287a75f45ae47d18d5787ce9309a00e": {
          "model_module": "@jupyter-widgets/controls",
          "model_name": "DescriptionStyleModel",
          "model_module_version": "1.5.0",
          "state": {
            "_model_module": "@jupyter-widgets/controls",
            "_model_module_version": "1.5.0",
            "_model_name": "DescriptionStyleModel",
            "_view_count": null,
            "_view_module": "@jupyter-widgets/base",
            "_view_module_version": "1.2.0",
            "_view_name": "StyleView",
            "description_width": ""
          }
        },
        "a26487a0e7134ac58d9ff92753c84bb8": {
          "model_module": "@jupyter-widgets/base",
          "model_name": "LayoutModel",
          "model_module_version": "1.2.0",
          "state": {
            "_model_module": "@jupyter-widgets/base",
            "_model_module_version": "1.2.0",
            "_model_name": "LayoutModel",
            "_view_count": null,
            "_view_module": "@jupyter-widgets/base",
            "_view_module_version": "1.2.0",
            "_view_name": "LayoutView",
            "align_content": null,
            "align_items": null,
            "align_self": null,
            "border": null,
            "bottom": null,
            "display": null,
            "flex": null,
            "flex_flow": null,
            "grid_area": null,
            "grid_auto_columns": null,
            "grid_auto_flow": null,
            "grid_auto_rows": null,
            "grid_column": null,
            "grid_gap": null,
            "grid_row": null,
            "grid_template_areas": null,
            "grid_template_columns": null,
            "grid_template_rows": null,
            "height": null,
            "justify_content": null,
            "justify_items": null,
            "left": null,
            "margin": null,
            "max_height": null,
            "max_width": null,
            "min_height": null,
            "min_width": null,
            "object_fit": null,
            "object_position": null,
            "order": null,
            "overflow": null,
            "overflow_x": null,
            "overflow_y": null,
            "padding": null,
            "right": null,
            "top": null,
            "visibility": null,
            "width": null
          }
        },
        "21cd725a8a4b4d9381406e24146184df": {
          "model_module": "@jupyter-widgets/controls",
          "model_name": "ProgressStyleModel",
          "model_module_version": "1.5.0",
          "state": {
            "_model_module": "@jupyter-widgets/controls",
            "_model_module_version": "1.5.0",
            "_model_name": "ProgressStyleModel",
            "_view_count": null,
            "_view_module": "@jupyter-widgets/base",
            "_view_module_version": "1.2.0",
            "_view_name": "StyleView",
            "bar_color": null,
            "description_width": ""
          }
        },
        "211126871c454db493441d450216e864": {
          "model_module": "@jupyter-widgets/base",
          "model_name": "LayoutModel",
          "model_module_version": "1.2.0",
          "state": {
            "_model_module": "@jupyter-widgets/base",
            "_model_module_version": "1.2.0",
            "_model_name": "LayoutModel",
            "_view_count": null,
            "_view_module": "@jupyter-widgets/base",
            "_view_module_version": "1.2.0",
            "_view_name": "LayoutView",
            "align_content": null,
            "align_items": null,
            "align_self": null,
            "border": null,
            "bottom": null,
            "display": null,
            "flex": null,
            "flex_flow": null,
            "grid_area": null,
            "grid_auto_columns": null,
            "grid_auto_flow": null,
            "grid_auto_rows": null,
            "grid_column": null,
            "grid_gap": null,
            "grid_row": null,
            "grid_template_areas": null,
            "grid_template_columns": null,
            "grid_template_rows": null,
            "height": null,
            "justify_content": null,
            "justify_items": null,
            "left": null,
            "margin": null,
            "max_height": null,
            "max_width": null,
            "min_height": null,
            "min_width": null,
            "object_fit": null,
            "object_position": null,
            "order": null,
            "overflow": null,
            "overflow_x": null,
            "overflow_y": null,
            "padding": null,
            "right": null,
            "top": null,
            "visibility": null,
            "width": null
          }
        },
        "1d2a3ff783544d7b91145ff953d76364": {
          "model_module": "@jupyter-widgets/controls",
          "model_name": "DescriptionStyleModel",
          "model_module_version": "1.5.0",
          "state": {
            "_model_module": "@jupyter-widgets/controls",
            "_model_module_version": "1.5.0",
            "_model_name": "DescriptionStyleModel",
            "_view_count": null,
            "_view_module": "@jupyter-widgets/base",
            "_view_module_version": "1.2.0",
            "_view_name": "StyleView",
            "description_width": ""
          }
        }
      }
    }
  },
  "cells": [
    {
      "cell_type": "markdown",
      "metadata": {
        "id": "view-in-github",
        "colab_type": "text"
      },
      "source": [
        "<a href=\"https://colab.research.google.com/github/dnasywa/projectsPortfolio/blob/main/Topic%20Modelling/LDA_Etika_TI.ipynb\" target=\"_parent\"><img src=\"https://colab.research.google.com/assets/colab-badge.svg\" alt=\"Open In Colab\"/></a>"
      ]
    },
    {
      "cell_type": "markdown",
      "metadata": {
        "id": "Us-FVDTlMj1d"
      },
      "source": [
        "# LDA Bahasa Indonesia"
      ]
    },
    {
      "cell_type": "markdown",
      "metadata": {
        "id": "VrlwHBpPslgu"
      },
      "source": [
        "Instalasi beberapa library yang diperlukan, untuk NLTK dan GENSIM sudah include di Colab"
      ]
    },
    {
      "cell_type": "code",
      "metadata": {
        "id": "Jb09FJAq58To",
        "colab": {
          "base_uri": "https://localhost:8080/"
        },
        "outputId": "d15f97c1-dbbb-43a9-a8c9-862cebce2753"
      },
      "source": [
        "pip install --upgrade gensim"
      ],
      "execution_count": null,
      "outputs": [
        {
          "output_type": "stream",
          "name": "stdout",
          "text": [
            "Requirement already satisfied: gensim in /usr/local/lib/python3.10/dist-packages (4.3.2)\n",
            "Requirement already satisfied: numpy>=1.18.5 in /usr/local/lib/python3.10/dist-packages (from gensim) (1.23.5)\n",
            "Requirement already satisfied: scipy>=1.7.0 in /usr/local/lib/python3.10/dist-packages (from gensim) (1.11.4)\n",
            "Requirement already satisfied: smart-open>=1.8.1 in /usr/local/lib/python3.10/dist-packages (from gensim) (6.4.0)\n"
          ]
        }
      ]
    },
    {
      "cell_type": "code",
      "metadata": {
        "id": "Npfo7KZAsKKT",
        "colab": {
          "base_uri": "https://localhost:8080/"
        },
        "outputId": "e892b7ee-1336-4fdb-e447-28d0415ce840"
      },
      "source": [
        "pip install pyldavis==3.2.1"
      ],
      "execution_count": null,
      "outputs": [
        {
          "output_type": "stream",
          "name": "stdout",
          "text": [
            "Collecting pyldavis==3.2.1\n",
            "  Downloading pyLDAvis-3.2.1.tar.gz (1.7 MB)\n",
            "\u001b[2K     \u001b[90m━━━━━━━━━━━━━━━━━━━━━━━━━━━━━━━━━━━━━━━━\u001b[0m \u001b[32m1.7/1.7 MB\u001b[0m \u001b[31m9.9 MB/s\u001b[0m eta \u001b[36m0:00:00\u001b[0m\n",
            "\u001b[?25h  Preparing metadata (setup.py) ... \u001b[?25l\u001b[?25hdone\n",
            "Requirement already satisfied: wheel>=0.23.0 in /usr/local/lib/python3.10/dist-packages (from pyldavis==3.2.1) (0.42.0)\n",
            "Requirement already satisfied: numpy>=1.9.2 in /usr/local/lib/python3.10/dist-packages (from pyldavis==3.2.1) (1.23.5)\n",
            "Requirement already satisfied: scipy>=0.18.0 in /usr/local/lib/python3.10/dist-packages (from pyldavis==3.2.1) (1.11.4)\n",
            "Requirement already satisfied: joblib>=0.8.4 in /usr/local/lib/python3.10/dist-packages (from pyldavis==3.2.1) (1.3.2)\n",
            "Requirement already satisfied: jinja2>=2.7.2 in /usr/local/lib/python3.10/dist-packages (from pyldavis==3.2.1) (3.1.2)\n",
            "Requirement already satisfied: numexpr in /usr/local/lib/python3.10/dist-packages (from pyldavis==3.2.1) (2.8.8)\n",
            "Requirement already satisfied: future in /usr/local/lib/python3.10/dist-packages (from pyldavis==3.2.1) (0.18.3)\n",
            "Collecting funcy (from pyldavis==3.2.1)\n",
            "  Downloading funcy-2.0-py2.py3-none-any.whl (30 kB)\n",
            "Requirement already satisfied: pandas>=0.17.0 in /usr/local/lib/python3.10/dist-packages (from pyldavis==3.2.1) (1.5.3)\n",
            "Requirement already satisfied: MarkupSafe>=2.0 in /usr/local/lib/python3.10/dist-packages (from jinja2>=2.7.2->pyldavis==3.2.1) (2.1.3)\n",
            "Requirement already satisfied: python-dateutil>=2.8.1 in /usr/local/lib/python3.10/dist-packages (from pandas>=0.17.0->pyldavis==3.2.1) (2.8.2)\n",
            "Requirement already satisfied: pytz>=2020.1 in /usr/local/lib/python3.10/dist-packages (from pandas>=0.17.0->pyldavis==3.2.1) (2023.3.post1)\n",
            "Requirement already satisfied: six>=1.5 in /usr/local/lib/python3.10/dist-packages (from python-dateutil>=2.8.1->pandas>=0.17.0->pyldavis==3.2.1) (1.16.0)\n",
            "Building wheels for collected packages: pyldavis\n",
            "  Building wheel for pyldavis (setup.py) ... \u001b[?25l\u001b[?25hdone\n",
            "  Created wheel for pyldavis: filename=pyLDAvis-3.2.1-py2.py3-none-any.whl size=136164 sha256=ac6a2a4dac67fd61181a16b703d3ae0684efaececec466ff57c0037609cd3060\n",
            "  Stored in directory: /root/.cache/pip/wheels/d3/35/9c/c084bb1c3a4b8a7feb32d57c88f572dcf5c3accc949478893f\n",
            "Successfully built pyldavis\n",
            "Installing collected packages: funcy, pyldavis\n",
            "Successfully installed funcy-2.0 pyldavis-3.2.1\n"
          ]
        }
      ]
    },
    {
      "cell_type": "code",
      "metadata": {
        "id": "RZFgf793QUdr",
        "colab": {
          "base_uri": "https://localhost:8080/"
        },
        "outputId": "82128aad-3111-4853-d3ee-fe2fbe4d60d8"
      },
      "source": [
        "pip install Sastrawi"
      ],
      "execution_count": null,
      "outputs": [
        {
          "output_type": "stream",
          "name": "stdout",
          "text": [
            "Collecting Sastrawi\n",
            "  Downloading Sastrawi-1.0.1-py2.py3-none-any.whl (209 kB)\n",
            "\u001b[2K     \u001b[90m━━━━━━━━━━━━━━━━━━━━━━━━━━━━━━━━━━━━━━━━\u001b[0m \u001b[32m209.7/209.7 kB\u001b[0m \u001b[31m2.5 MB/s\u001b[0m eta \u001b[36m0:00:00\u001b[0m\n",
            "\u001b[?25hInstalling collected packages: Sastrawi\n",
            "Successfully installed Sastrawi-1.0.1\n"
          ]
        }
      ]
    },
    {
      "cell_type": "code",
      "metadata": {
        "id": "8qR4cmyvQbNf",
        "colab": {
          "base_uri": "https://localhost:8080/"
        },
        "outputId": "7de68b4c-5418-429f-b367-3a95f8763af1"
      },
      "source": [
        "pip install swifter"
      ],
      "execution_count": null,
      "outputs": [
        {
          "output_type": "stream",
          "name": "stdout",
          "text": [
            "Collecting swifter\n",
            "  Downloading swifter-1.4.0.tar.gz (1.2 MB)\n",
            "\u001b[?25l     \u001b[90m━━━━━━━━━━━━━━━━━━━━━━━━━━━━━━━━━━━━━━━━\u001b[0m \u001b[32m0.0/1.2 MB\u001b[0m \u001b[31m?\u001b[0m eta \u001b[36m-:--:--\u001b[0m\r\u001b[2K     \u001b[91m━━━\u001b[0m\u001b[90m╺\u001b[0m\u001b[90m━━━━━━━━━━━━━━━━━━━━━━━━━━━━━━━━━━━━\u001b[0m \u001b[32m0.1/1.2 MB\u001b[0m \u001b[31m2.6 MB/s\u001b[0m eta \u001b[36m0:00:01\u001b[0m\r\u001b[2K     \u001b[91m━━━━━━━━━━━━━━━━━━━━━━━━━━━━━━━━━━━━━━━\u001b[0m\u001b[91m╸\u001b[0m \u001b[32m1.2/1.2 MB\u001b[0m \u001b[31m18.7 MB/s\u001b[0m eta \u001b[36m0:00:01\u001b[0m\r\u001b[2K     \u001b[90m━━━━━━━━━━━━━━━━━━━━━━━━━━━━━━━━━━━━━━━━\u001b[0m \u001b[32m1.2/1.2 MB\u001b[0m \u001b[31m15.4 MB/s\u001b[0m eta \u001b[36m0:00:00\u001b[0m\n",
            "\u001b[?25h  Preparing metadata (setup.py) ... \u001b[?25l\u001b[?25hdone\n",
            "Requirement already satisfied: pandas>=1.0.0 in /usr/local/lib/python3.10/dist-packages (from swifter) (1.5.3)\n",
            "Requirement already satisfied: psutil>=5.6.6 in /usr/local/lib/python3.10/dist-packages (from swifter) (5.9.5)\n",
            "Requirement already satisfied: dask[dataframe]>=2.10.0 in /usr/local/lib/python3.10/dist-packages (from swifter) (2023.8.1)\n",
            "Requirement already satisfied: tqdm>=4.33.0 in /usr/local/lib/python3.10/dist-packages (from swifter) (4.66.1)\n",
            "Requirement already satisfied: click>=8.0 in /usr/local/lib/python3.10/dist-packages (from dask[dataframe]>=2.10.0->swifter) (8.1.7)\n",
            "Requirement already satisfied: cloudpickle>=1.5.0 in /usr/local/lib/python3.10/dist-packages (from dask[dataframe]>=2.10.0->swifter) (2.2.1)\n",
            "Requirement already satisfied: fsspec>=2021.09.0 in /usr/local/lib/python3.10/dist-packages (from dask[dataframe]>=2.10.0->swifter) (2023.6.0)\n",
            "Requirement already satisfied: packaging>=20.0 in /usr/local/lib/python3.10/dist-packages (from dask[dataframe]>=2.10.0->swifter) (23.2)\n",
            "Requirement already satisfied: partd>=1.2.0 in /usr/local/lib/python3.10/dist-packages (from dask[dataframe]>=2.10.0->swifter) (1.4.1)\n",
            "Requirement already satisfied: pyyaml>=5.3.1 in /usr/local/lib/python3.10/dist-packages (from dask[dataframe]>=2.10.0->swifter) (6.0.1)\n",
            "Requirement already satisfied: toolz>=0.10.0 in /usr/local/lib/python3.10/dist-packages (from dask[dataframe]>=2.10.0->swifter) (0.12.0)\n",
            "Requirement already satisfied: importlib-metadata>=4.13.0 in /usr/local/lib/python3.10/dist-packages (from dask[dataframe]>=2.10.0->swifter) (7.0.0)\n",
            "Requirement already satisfied: python-dateutil>=2.8.1 in /usr/local/lib/python3.10/dist-packages (from pandas>=1.0.0->swifter) (2.8.2)\n",
            "Requirement already satisfied: pytz>=2020.1 in /usr/local/lib/python3.10/dist-packages (from pandas>=1.0.0->swifter) (2023.3.post1)\n",
            "Requirement already satisfied: numpy>=1.21.0 in /usr/local/lib/python3.10/dist-packages (from pandas>=1.0.0->swifter) (1.23.5)\n",
            "Requirement already satisfied: zipp>=0.5 in /usr/local/lib/python3.10/dist-packages (from importlib-metadata>=4.13.0->dask[dataframe]>=2.10.0->swifter) (3.17.0)\n",
            "Requirement already satisfied: locket in /usr/local/lib/python3.10/dist-packages (from partd>=1.2.0->dask[dataframe]>=2.10.0->swifter) (1.0.0)\n",
            "Requirement already satisfied: six>=1.5 in /usr/local/lib/python3.10/dist-packages (from python-dateutil>=2.8.1->pandas>=1.0.0->swifter) (1.16.0)\n",
            "Building wheels for collected packages: swifter\n",
            "  Building wheel for swifter (setup.py) ... \u001b[?25l\u001b[?25hdone\n",
            "  Created wheel for swifter: filename=swifter-1.4.0-py3-none-any.whl size=16506 sha256=b033e746ac149edd502ab12ab8c2775f5fab0520f8e5e90e7ce6aede01efedad\n",
            "  Stored in directory: /root/.cache/pip/wheels/e4/cf/51/0904952972ee2c7aa3709437065278dc534ec1b8d2ad41b443\n",
            "Successfully built swifter\n",
            "Installing collected packages: swifter\n",
            "Successfully installed swifter-1.4.0\n"
          ]
        }
      ]
    },
    {
      "cell_type": "markdown",
      "metadata": {
        "id": "L7coo48jufYT"
      },
      "source": [
        "# Preparing Data"
      ]
    },
    {
      "cell_type": "code",
      "metadata": {
        "id": "-3S6Z9dmMiRs"
      },
      "source": [
        "import pandas as pd\n",
        "import numpy as np\n",
        "import nltk"
      ],
      "execution_count": null,
      "outputs": []
    },
    {
      "cell_type": "code",
      "metadata": {
        "colab": {
          "base_uri": "https://localhost:8080/"
        },
        "id": "khx0rcagM5rd",
        "outputId": "2b361125-35ae-4b2e-868b-2cadaba52b27"
      },
      "source": [
        "#import data dari GDrive\n",
        "#bisa lihat di video ini https://youtu.be/AAwgqf2d82k\n",
        "! gdown --id 1046yMQ2zE1KcnTgUqmrrGGmLZmqyzwDw #id file di drive, bisa dilihat di link file dengan menu share file"
      ],
      "execution_count": null,
      "outputs": [
        {
          "output_type": "stream",
          "name": "stdout",
          "text": [
            "/usr/local/lib/python3.10/dist-packages/gdown/cli.py:121: FutureWarning: Option `--id` was deprecated in version 4.3.1 and will be removed in 5.0. You don't need to pass it anymore to use a file ID.\n",
            "  warnings.warn(\n",
            "Downloading...\n",
            "From: https://drive.google.com/uc?id=1046yMQ2zE1KcnTgUqmrrGGmLZmqyzwDw\n",
            "To: /content/data_berita_new.xlsx\n",
            "100% 115k/115k [00:00<00:00, 14.7MB/s]\n"
          ]
        }
      ]
    },
    {
      "cell_type": "code",
      "metadata": {
        "colab": {
          "base_uri": "https://localhost:8080/",
          "height": 206
        },
        "id": "7LD0Z87lNAIs",
        "outputId": "8430cfdd-1d68-41cb-9f75-696c0bce29bb"
      },
      "source": [
        "dataSB = pd.read_excel('/content/data_berita_new.xlsx', sheet_name=\"Worksheet\") #lokasi file\n",
        "\n",
        "dataSB.head()"
      ],
      "execution_count": null,
      "outputs": [
        {
          "output_type": "execute_result",
          "data": {
            "text/plain": [
              "                                                link  \\\n",
              "0  https://www.antaranews.com/berita/3883251/vin-...   \n",
              "1  https://www.antaranews.com/video/3883236/perta...   \n",
              "2  https://www.antaranews.com/berita/3883248/damk...   \n",
              "3  https://www.antaranews.com/berita/3883245/gibr...   \n",
              "4  https://www.antaranews.com/berita/3883242/ment...   \n",
              "\n",
              "                                               title  \\\n",
              "0  Vin Diesel digugat mantan asisten atas tuduhan...   \n",
              "1        Pertamina buka 48 SPBU modular di jalur tol   \n",
              "2  Damkar Depok paparkan tips aman selama libur N...   \n",
              "3  Gibran Center: Gibran akan bahas ekonomi digit...   \n",
              "4  Menteri Bintang: Hari Ibu momentum apresiasi p...   \n",
              "\n",
              "                    pubDate  \\\n",
              "0  2023-12-22T07:13:45.000Z   \n",
              "1  2023-12-22T07:13:18.000Z   \n",
              "2  2023-12-22T07:12:33.000Z   \n",
              "3  2023-12-22T07:09:44.000Z   \n",
              "4  2023-12-22T07:09:18.000Z   \n",
              "\n",
              "                                         description  \\\n",
              "0  Aktor Vin Diesel digugat oleh mantan asistenny...   \n",
              "1  ANTARA - PT Pertamina membuka 40 SPBU modular ...   \n",
              "2  Pemerintah Kota (Pemkot) Depok, Jawa Barat (Ja...   \n",
              "3  Sekjen&nbsp;Gibran Center, Fathul Nugroho, men...   \n",
              "4  Menteri Pemberdayaan Perempuan dan Perlindunga...   \n",
              "\n",
              "                                           thumbnail  \n",
              "0  https://img.antaranews.com/cache/800x533/2023/...  \n",
              "1  https://img.antaranews.com/cache/800x533/2023/...  \n",
              "2  https://img.antaranews.com/cache/800x533/2023/...  \n",
              "3  https://img.antaranews.com/cache/800x533/2023/...  \n",
              "4  https://img.antaranews.com/cache/800x533/2023/...  "
            ],
            "text/html": [
              "\n",
              "  <div id=\"df-65be6b3e-fab8-4039-a1df-5ea677d93f10\" class=\"colab-df-container\">\n",
              "    <div>\n",
              "<style scoped>\n",
              "    .dataframe tbody tr th:only-of-type {\n",
              "        vertical-align: middle;\n",
              "    }\n",
              "\n",
              "    .dataframe tbody tr th {\n",
              "        vertical-align: top;\n",
              "    }\n",
              "\n",
              "    .dataframe thead th {\n",
              "        text-align: right;\n",
              "    }\n",
              "</style>\n",
              "<table border=\"1\" class=\"dataframe\">\n",
              "  <thead>\n",
              "    <tr style=\"text-align: right;\">\n",
              "      <th></th>\n",
              "      <th>link</th>\n",
              "      <th>title</th>\n",
              "      <th>pubDate</th>\n",
              "      <th>description</th>\n",
              "      <th>thumbnail</th>\n",
              "    </tr>\n",
              "  </thead>\n",
              "  <tbody>\n",
              "    <tr>\n",
              "      <th>0</th>\n",
              "      <td>https://www.antaranews.com/berita/3883251/vin-...</td>\n",
              "      <td>Vin Diesel digugat mantan asisten atas tuduhan...</td>\n",
              "      <td>2023-12-22T07:13:45.000Z</td>\n",
              "      <td>Aktor Vin Diesel digugat oleh mantan asistenny...</td>\n",
              "      <td>https://img.antaranews.com/cache/800x533/2023/...</td>\n",
              "    </tr>\n",
              "    <tr>\n",
              "      <th>1</th>\n",
              "      <td>https://www.antaranews.com/video/3883236/perta...</td>\n",
              "      <td>Pertamina buka 48 SPBU modular di jalur tol</td>\n",
              "      <td>2023-12-22T07:13:18.000Z</td>\n",
              "      <td>ANTARA - PT Pertamina membuka 40 SPBU modular ...</td>\n",
              "      <td>https://img.antaranews.com/cache/800x533/2023/...</td>\n",
              "    </tr>\n",
              "    <tr>\n",
              "      <th>2</th>\n",
              "      <td>https://www.antaranews.com/berita/3883248/damk...</td>\n",
              "      <td>Damkar Depok paparkan tips aman selama libur N...</td>\n",
              "      <td>2023-12-22T07:12:33.000Z</td>\n",
              "      <td>Pemerintah Kota (Pemkot) Depok, Jawa Barat (Ja...</td>\n",
              "      <td>https://img.antaranews.com/cache/800x533/2023/...</td>\n",
              "    </tr>\n",
              "    <tr>\n",
              "      <th>3</th>\n",
              "      <td>https://www.antaranews.com/berita/3883245/gibr...</td>\n",
              "      <td>Gibran Center: Gibran akan bahas ekonomi digit...</td>\n",
              "      <td>2023-12-22T07:09:44.000Z</td>\n",
              "      <td>Sekjen&amp;nbsp;Gibran Center, Fathul Nugroho, men...</td>\n",
              "      <td>https://img.antaranews.com/cache/800x533/2023/...</td>\n",
              "    </tr>\n",
              "    <tr>\n",
              "      <th>4</th>\n",
              "      <td>https://www.antaranews.com/berita/3883242/ment...</td>\n",
              "      <td>Menteri Bintang: Hari Ibu momentum apresiasi p...</td>\n",
              "      <td>2023-12-22T07:09:18.000Z</td>\n",
              "      <td>Menteri Pemberdayaan Perempuan dan Perlindunga...</td>\n",
              "      <td>https://img.antaranews.com/cache/800x533/2023/...</td>\n",
              "    </tr>\n",
              "  </tbody>\n",
              "</table>\n",
              "</div>\n",
              "    <div class=\"colab-df-buttons\">\n",
              "\n",
              "  <div class=\"colab-df-container\">\n",
              "    <button class=\"colab-df-convert\" onclick=\"convertToInteractive('df-65be6b3e-fab8-4039-a1df-5ea677d93f10')\"\n",
              "            title=\"Convert this dataframe to an interactive table.\"\n",
              "            style=\"display:none;\">\n",
              "\n",
              "  <svg xmlns=\"http://www.w3.org/2000/svg\" height=\"24px\" viewBox=\"0 -960 960 960\">\n",
              "    <path d=\"M120-120v-720h720v720H120Zm60-500h600v-160H180v160Zm220 220h160v-160H400v160Zm0 220h160v-160H400v160ZM180-400h160v-160H180v160Zm440 0h160v-160H620v160ZM180-180h160v-160H180v160Zm440 0h160v-160H620v160Z\"/>\n",
              "  </svg>\n",
              "    </button>\n",
              "\n",
              "  <style>\n",
              "    .colab-df-container {\n",
              "      display:flex;\n",
              "      gap: 12px;\n",
              "    }\n",
              "\n",
              "    .colab-df-convert {\n",
              "      background-color: #E8F0FE;\n",
              "      border: none;\n",
              "      border-radius: 50%;\n",
              "      cursor: pointer;\n",
              "      display: none;\n",
              "      fill: #1967D2;\n",
              "      height: 32px;\n",
              "      padding: 0 0 0 0;\n",
              "      width: 32px;\n",
              "    }\n",
              "\n",
              "    .colab-df-convert:hover {\n",
              "      background-color: #E2EBFA;\n",
              "      box-shadow: 0px 1px 2px rgba(60, 64, 67, 0.3), 0px 1px 3px 1px rgba(60, 64, 67, 0.15);\n",
              "      fill: #174EA6;\n",
              "    }\n",
              "\n",
              "    .colab-df-buttons div {\n",
              "      margin-bottom: 4px;\n",
              "    }\n",
              "\n",
              "    [theme=dark] .colab-df-convert {\n",
              "      background-color: #3B4455;\n",
              "      fill: #D2E3FC;\n",
              "    }\n",
              "\n",
              "    [theme=dark] .colab-df-convert:hover {\n",
              "      background-color: #434B5C;\n",
              "      box-shadow: 0px 1px 3px 1px rgba(0, 0, 0, 0.15);\n",
              "      filter: drop-shadow(0px 1px 2px rgba(0, 0, 0, 0.3));\n",
              "      fill: #FFFFFF;\n",
              "    }\n",
              "  </style>\n",
              "\n",
              "    <script>\n",
              "      const buttonEl =\n",
              "        document.querySelector('#df-65be6b3e-fab8-4039-a1df-5ea677d93f10 button.colab-df-convert');\n",
              "      buttonEl.style.display =\n",
              "        google.colab.kernel.accessAllowed ? 'block' : 'none';\n",
              "\n",
              "      async function convertToInteractive(key) {\n",
              "        const element = document.querySelector('#df-65be6b3e-fab8-4039-a1df-5ea677d93f10');\n",
              "        const dataTable =\n",
              "          await google.colab.kernel.invokeFunction('convertToInteractive',\n",
              "                                                    [key], {});\n",
              "        if (!dataTable) return;\n",
              "\n",
              "        const docLinkHtml = 'Like what you see? Visit the ' +\n",
              "          '<a target=\"_blank\" href=https://colab.research.google.com/notebooks/data_table.ipynb>data table notebook</a>'\n",
              "          + ' to learn more about interactive tables.';\n",
              "        element.innerHTML = '';\n",
              "        dataTable['output_type'] = 'display_data';\n",
              "        await google.colab.output.renderOutput(dataTable, element);\n",
              "        const docLink = document.createElement('div');\n",
              "        docLink.innerHTML = docLinkHtml;\n",
              "        element.appendChild(docLink);\n",
              "      }\n",
              "    </script>\n",
              "  </div>\n",
              "\n",
              "\n",
              "<div id=\"df-f913eef7-a5a4-4d56-8988-197fec0ea753\">\n",
              "  <button class=\"colab-df-quickchart\" onclick=\"quickchart('df-f913eef7-a5a4-4d56-8988-197fec0ea753')\"\n",
              "            title=\"Suggest charts\"\n",
              "            style=\"display:none;\">\n",
              "\n",
              "<svg xmlns=\"http://www.w3.org/2000/svg\" height=\"24px\"viewBox=\"0 0 24 24\"\n",
              "     width=\"24px\">\n",
              "    <g>\n",
              "        <path d=\"M19 3H5c-1.1 0-2 .9-2 2v14c0 1.1.9 2 2 2h14c1.1 0 2-.9 2-2V5c0-1.1-.9-2-2-2zM9 17H7v-7h2v7zm4 0h-2V7h2v10zm4 0h-2v-4h2v4z\"/>\n",
              "    </g>\n",
              "</svg>\n",
              "  </button>\n",
              "\n",
              "<style>\n",
              "  .colab-df-quickchart {\n",
              "      --bg-color: #E8F0FE;\n",
              "      --fill-color: #1967D2;\n",
              "      --hover-bg-color: #E2EBFA;\n",
              "      --hover-fill-color: #174EA6;\n",
              "      --disabled-fill-color: #AAA;\n",
              "      --disabled-bg-color: #DDD;\n",
              "  }\n",
              "\n",
              "  [theme=dark] .colab-df-quickchart {\n",
              "      --bg-color: #3B4455;\n",
              "      --fill-color: #D2E3FC;\n",
              "      --hover-bg-color: #434B5C;\n",
              "      --hover-fill-color: #FFFFFF;\n",
              "      --disabled-bg-color: #3B4455;\n",
              "      --disabled-fill-color: #666;\n",
              "  }\n",
              "\n",
              "  .colab-df-quickchart {\n",
              "    background-color: var(--bg-color);\n",
              "    border: none;\n",
              "    border-radius: 50%;\n",
              "    cursor: pointer;\n",
              "    display: none;\n",
              "    fill: var(--fill-color);\n",
              "    height: 32px;\n",
              "    padding: 0;\n",
              "    width: 32px;\n",
              "  }\n",
              "\n",
              "  .colab-df-quickchart:hover {\n",
              "    background-color: var(--hover-bg-color);\n",
              "    box-shadow: 0 1px 2px rgba(60, 64, 67, 0.3), 0 1px 3px 1px rgba(60, 64, 67, 0.15);\n",
              "    fill: var(--button-hover-fill-color);\n",
              "  }\n",
              "\n",
              "  .colab-df-quickchart-complete:disabled,\n",
              "  .colab-df-quickchart-complete:disabled:hover {\n",
              "    background-color: var(--disabled-bg-color);\n",
              "    fill: var(--disabled-fill-color);\n",
              "    box-shadow: none;\n",
              "  }\n",
              "\n",
              "  .colab-df-spinner {\n",
              "    border: 2px solid var(--fill-color);\n",
              "    border-color: transparent;\n",
              "    border-bottom-color: var(--fill-color);\n",
              "    animation:\n",
              "      spin 1s steps(1) infinite;\n",
              "  }\n",
              "\n",
              "  @keyframes spin {\n",
              "    0% {\n",
              "      border-color: transparent;\n",
              "      border-bottom-color: var(--fill-color);\n",
              "      border-left-color: var(--fill-color);\n",
              "    }\n",
              "    20% {\n",
              "      border-color: transparent;\n",
              "      border-left-color: var(--fill-color);\n",
              "      border-top-color: var(--fill-color);\n",
              "    }\n",
              "    30% {\n",
              "      border-color: transparent;\n",
              "      border-left-color: var(--fill-color);\n",
              "      border-top-color: var(--fill-color);\n",
              "      border-right-color: var(--fill-color);\n",
              "    }\n",
              "    40% {\n",
              "      border-color: transparent;\n",
              "      border-right-color: var(--fill-color);\n",
              "      border-top-color: var(--fill-color);\n",
              "    }\n",
              "    60% {\n",
              "      border-color: transparent;\n",
              "      border-right-color: var(--fill-color);\n",
              "    }\n",
              "    80% {\n",
              "      border-color: transparent;\n",
              "      border-right-color: var(--fill-color);\n",
              "      border-bottom-color: var(--fill-color);\n",
              "    }\n",
              "    90% {\n",
              "      border-color: transparent;\n",
              "      border-bottom-color: var(--fill-color);\n",
              "    }\n",
              "  }\n",
              "</style>\n",
              "\n",
              "  <script>\n",
              "    async function quickchart(key) {\n",
              "      const quickchartButtonEl =\n",
              "        document.querySelector('#' + key + ' button');\n",
              "      quickchartButtonEl.disabled = true;  // To prevent multiple clicks.\n",
              "      quickchartButtonEl.classList.add('colab-df-spinner');\n",
              "      try {\n",
              "        const charts = await google.colab.kernel.invokeFunction(\n",
              "            'suggestCharts', [key], {});\n",
              "      } catch (error) {\n",
              "        console.error('Error during call to suggestCharts:', error);\n",
              "      }\n",
              "      quickchartButtonEl.classList.remove('colab-df-spinner');\n",
              "      quickchartButtonEl.classList.add('colab-df-quickchart-complete');\n",
              "    }\n",
              "    (() => {\n",
              "      let quickchartButtonEl =\n",
              "        document.querySelector('#df-f913eef7-a5a4-4d56-8988-197fec0ea753 button');\n",
              "      quickchartButtonEl.style.display =\n",
              "        google.colab.kernel.accessAllowed ? 'block' : 'none';\n",
              "    })();\n",
              "  </script>\n",
              "</div>\n",
              "    </div>\n",
              "  </div>\n"
            ]
          },
          "metadata": {},
          "execution_count": 16
        }
      ]
    },
    {
      "cell_type": "code",
      "metadata": {
        "colab": {
          "base_uri": "https://localhost:8080/"
        },
        "id": "Ir6LW2PuN7dw",
        "outputId": "fbcca5b3-443c-4c80-bb8e-7be4b06d5573"
      },
      "source": [
        "# ------ Case Folding --------\n",
        "# gunakan fungsi Series.str.lower() pada Pandas\n",
        "\n",
        "dataSB['description'] = dataSB['description'].str.lower()\n",
        "\n",
        "print('Case Folding Result : \\n')\n",
        "print(dataSB['description'].head(50))"
      ],
      "execution_count": null,
      "outputs": [
        {
          "output_type": "stream",
          "name": "stdout",
          "text": [
            "Case Folding Result : \n",
            "\n",
            "0     aktor vin diesel digugat oleh mantan asistenny...\n",
            "1     antara - pt pertamina membuka 40 spbu modular ...\n",
            "2     pemerintah kota (pemkot) depok, jawa barat (ja...\n",
            "3     sekjen&nbsp;gibran center, fathul nugroho, men...\n",
            "4     menteri pemberdayaan perempuan dan perlindunga...\n",
            "5     menteri koordinator bidang perekonomian airlan...\n",
            "6     pertumbuhan produk domestik bruto (pdb) riil a...\n",
            "7     kantor wilayah (kanwil) badan pertanahan nasio...\n",
            "8     akademi teknik china (chinese academy of engin...\n",
            "9     di antara sederet tradisi natal bagi sebagian ...\n",
            "10    antara - direktorat reserse narkoba&nbsp;(ditr...\n",
            "11    penyidik komisi pemberantasan korupsi (kpk) me...\n",
            "12    deputi bidang kebijakan pembangunan brin mego ...\n",
            "13    banyudono (boyolali) hingga karanganom (klaten...\n",
            "14    sebanyak 420 pemudik di kota batam, kepulauan ...\n",
            "15    empat gelar juara menjadi kado pengurus besar ...\n",
            "16    menteri luar negeri ri retno marsudi bertemu m...\n",
            "17    antara - presiden joko widodo di jakarta, juma...\n",
            "18    antara - presiden joko widodo di jakarta, juma...\n",
            "19    keluarga besar pecinta walisongo mendeklarasik...\n",
            "20    sri mulyani menegaskan dampak konflik dunia da...\n",
            "21    pentagon mengungkapkan lebih dari 20 negara te...\n",
            "22    bank indonesia (bi) melaporkan likuiditas pere...\n",
            "23    indonesia berencana menggencarkan pengolahan t...\n",
            "24    telkomsel, xl, indosat, dan smartfren mempersi...\n",
            "25    utang bantuan likuiditas bank indonesia (blbi)...\n",
            "26    regulasi yang tepat dan kesiapan industri penu...\n",
            "27    nomaden tv merupakan pelopor produk layanan hi...\n",
            "28    pertumbuhan dana pihak ketiga (dpk) perbankan ...\n",
            "29    jeffrey goh awalnya pegawai kantoran bergaji r...\n",
            "30    jokowi menegaskan dalam memasuki tahun 2024 in...\n",
            "31    menteri esdm blak-blakan kebijakan pendaftaran...\n",
            "32    perbankan mulai fokus membiayai hilirisasi bah...\n",
            "33    airlangga hartarto menegaskan utang indonesia ...\n",
            "34    ekonom ingatkan 4 \"ancaman\" global 2024 yang w...\n",
            "35    cek harga terbaru hp xiaomi, redmi, dan poco. ...\n",
            "36    spesial liburan natal dan tahun baru 2023, den...\n",
            "37    menteri keuangan chatib basri mengungkapkan pe...\n",
            "38    kurator ikn ridwan kamil tiba-tiba bercerita s...\n",
            "39    amerika serikat (as) pada awal pekan ini melun...\n",
            "40    diketahui, masih ada 58 nasabah bancassurance ...\n",
            "41    menteri esdm arifin tasrif meninjau kesiapan p...\n",
            "42    indonesia mengandalkan 3 mesin untuk mendorong...\n",
            "43    perekonomian amerika serikat pada kuartal keti...\n",
            "44    global talent index indonesia naik siginifikan...\n",
            "45    pemerintah tengah menjajaki pembukaan pasar ek...\n",
            "46    toyota indonesia telah berkoordinasi dengan pe...\n",
            "47    ojk perkuat peran industri keuangan dorong mes...\n",
            "48    sekitar 240 juta pc akan jadi sampah seberat 4...\n",
            "49    menteri esdm arifin tasrif buka-bukaan upaya r...\n",
            "Name: description, dtype: object\n"
          ]
        }
      ]
    },
    {
      "cell_type": "markdown",
      "metadata": {
        "id": "6QHEcQNluwc2"
      },
      "source": [
        "# Tokenizing\n",
        "\n",
        "Menghapus karakter-karakter yang tidak penting dari text"
      ]
    },
    {
      "cell_type": "code",
      "metadata": {
        "id": "bRMi74w-OKjC"
      },
      "source": [
        "import string\n",
        "import re #regex library\n",
        "\n",
        "# import word_tokenize & FreqDist from NLTK\n",
        "from nltk.tokenize import word_tokenize\n",
        "from nltk.probability import FreqDist"
      ],
      "execution_count": null,
      "outputs": []
    },
    {
      "cell_type": "code",
      "metadata": {
        "id": "Tz06NMSjdPSt",
        "colab": {
          "base_uri": "https://localhost:8080/"
        },
        "outputId": "7cb51127-ee2a-4d3c-d5ab-67cffc574c4c"
      },
      "source": [
        "# ------ Tokenizing ---------\n",
        "\n",
        "nltk.download('punkt')\n",
        "\n",
        "def remove_tweet_special(text):\n",
        "    # remove tab, new line, ans back slice\n",
        "    text = text.replace('\\\\t',\" \").replace('\\\\n',\" \").replace('\\\\u',\" \").replace('\\\\',\"\")\n",
        "    # remove non ASCII (emoticon, chinese word, .etc)\n",
        "    text = text.encode('ascii', 'replace').decode('ascii')\n",
        "    # remove mention, link, hashtag\n",
        "    text = ' '.join(re.sub(\"([@#][A-Za-z0-9]+)|(\\w+:\\/\\/\\S+)\",\" \", text).split())\n",
        "    # remove incomplete URL\n",
        "    return text.replace(\"http://\", \" \").replace(\"https://\", \" \")\n",
        "\n",
        "dataSB['description'] = dataSB['description'].apply(remove_tweet_special)\n",
        "\n",
        "#remove number\n",
        "def remove_number(text):\n",
        "    return  re.sub(r\"\\d+\", \"\", text)\n",
        "\n",
        "dataSB['description'] = dataSB['description'].apply(remove_number)\n",
        "\n",
        "#remove punctuation\n",
        "def remove_punctuation(text):\n",
        "    return text.translate(str.maketrans(\"\",\"\",string.punctuation))\n",
        "\n",
        "dataSB['description'] = dataSB['description'].apply(remove_punctuation)\n",
        "\n",
        "#remove whitespace leading & trailing\n",
        "def remove_whitespace_LT(text):\n",
        "    return text.strip()\n",
        "\n",
        "dataSB['description'] = dataSB['description'].apply(remove_whitespace_LT)\n",
        "\n",
        "#remove multiple whitespace into single whitespace\n",
        "def remove_whitespace_multiple(text):\n",
        "    return re.sub('\\s+',' ',text)\n",
        "\n",
        "dataSB['description'] = dataSB['description'].apply(remove_whitespace_multiple)\n",
        "\n",
        "# remove single char\n",
        "def remove_singl_char(text):\n",
        "    return re.sub(r\"\\b[a-zA-Z]\\b\", \"\", text)\n",
        "\n",
        "dataSB['description'] = dataSB['description'].apply(remove_singl_char)\n",
        "\n",
        "# NLTK word tokenize\n",
        "def word_tokenize_wrapper(text):\n",
        "    return word_tokenize(text)\n",
        "\n",
        "dataSB['description_tokens'] = dataSB['description'].apply(word_tokenize_wrapper)\n",
        "\n",
        "print('Tokenizing Result : \\n')\n",
        "print(dataSB['description_tokens'].head(50))"
      ],
      "execution_count": null,
      "outputs": [
        {
          "output_type": "stream",
          "name": "stdout",
          "text": [
            "Tokenizing Result : \n",
            "\n",
            "0     [aktor, vin, diesel, digugat, oleh, mantan, as...\n",
            "1     [antara, pt, pertamina, membuka, spbu, modular...\n",
            "2     [pemerintah, kota, pemkot, depok, jawa, barat,...\n",
            "3     [sekjennbspgibran, center, fathul, nugroho, me...\n",
            "4     [menteri, pemberdayaan, perempuan, dan, perlin...\n",
            "5     [menteri, koordinator, bidang, perekonomian, a...\n",
            "6     [pertumbuhan, produk, domestik, bruto, pdb, ri...\n",
            "7     [kantor, wilayah, kanwil, badan, pertanahan, n...\n",
            "8     [akademi, teknik, china, chinese, academy, of,...\n",
            "9     [di, antara, sederet, tradisi, natal, bagi, se...\n",
            "10    [antara, direktorat, reserse, narkobanbspditre...\n",
            "11    [penyidik, komisi, pemberantasan, korupsi, kpk...\n",
            "12    [deputi, bidang, kebijakan, pembangunan, brin,...\n",
            "13    [banyudono, boyolali, hingga, karanganom, klat...\n",
            "14    [sebanyak, pemudik, di, kota, batam, kepulauan...\n",
            "15    [empat, gelar, juara, menjadi, kado, pengurus,...\n",
            "16    [menteri, luar, negeri, ri, retno, marsudi, be...\n",
            "17    [antara, presiden, joko, widodo, di, jakarta, ...\n",
            "18    [antara, presiden, joko, widodo, di, jakarta, ...\n",
            "19    [keluarga, besar, pecinta, walisongo, mendekla...\n",
            "20    [sri, mulyani, menegaskandampak, konflik, duni...\n",
            "21    [pentagon, mengungkapkan, lebih, dari, negara,...\n",
            "22    [bank, indonesia, bi, melaporkan, likuiditas, ...\n",
            "23    [indonesia, berencana, menggencarkan, pengolah...\n",
            "24    [telkomsel, xl, indosat, dan, smartfrenmempers...\n",
            "25    [utang, bantuan, likuiditas, bank, indonesia, ...\n",
            "26    [regulasi, yang, tepat, dan, kesiapan, industr...\n",
            "27    [nomaden, tv, merupakan, pelopor, produk, laya...\n",
            "28    [pertumbuhan, dana, pihak, ketiga, dpk, perban...\n",
            "29    [jeffrey, goh, awalnya, pegawai, kantoran, ber...\n",
            "30    [jokowi, menegaskan, dalam, memasuki, tahun, i...\n",
            "31    [menteri, esdm, blakblakan, kebijakan, pendaft...\n",
            "32    [perbankan, mulai, fokus, membiayai, hilirisas...\n",
            "33    [airlangga, hartarto, menegaskanutang, indones...\n",
            "34    [ekonom, ingatkan, ancaman, global, yang, waji...\n",
            "35    [cek, harga, terbaru, hp, xiaomi, redmi, dan, ...\n",
            "36    [spesial, liburan, natal, dan, tahun, baru, de...\n",
            "37    [menteri, keuangan, chatib, basri, mengungkapk...\n",
            "38    [kurator, ikn, ridwan, kamil, tibatiba, bercer...\n",
            "39    [amerika, serikat, as, pada, awal, pekan, ini,...\n",
            "40    [diketahui, masih, ada, nasabah, bancassurance...\n",
            "41    [menteri, esdm, arifin, tasrif, meninjau, kesi...\n",
            "42    [indonesia, mengandalkan, mesin, untuk, mendor...\n",
            "43    [perekonomian, amerika, serikat, pada, kuartal...\n",
            "44    [global, talent, index, indonesia, naik, sigin...\n",
            "45    [pemerintah, tengah, menjajaki, pembukaan, pas...\n",
            "46    [toyota, indonesia, telah, berkoordinasi, deng...\n",
            "47    [ojk, perkuat, peran, industri, keuangan, doro...\n",
            "48    [sekitar, juta, pc, akan, jadi, sampah, sebera...\n",
            "49    [menteri, esdm, arifin, tasrif, bukabukaan, up...\n",
            "Name: description_tokens, dtype: object\n"
          ]
        },
        {
          "output_type": "stream",
          "name": "stderr",
          "text": [
            "[nltk_data] Downloading package punkt to /root/nltk_data...\n",
            "[nltk_data]   Package punkt is already up-to-date!\n"
          ]
        }
      ]
    },
    {
      "cell_type": "code",
      "metadata": {
        "id": "k9aPbhDxdPSv",
        "colab": {
          "base_uri": "https://localhost:8080/"
        },
        "outputId": "68fc6f4e-e1e1-487f-b8cd-19314eb08524"
      },
      "source": [
        "# NLTK calc frequency distribution\n",
        "def freqDist_wrapper(text):\n",
        "    return FreqDist(text)\n",
        "\n",
        "dataSB['description_tokens_fdist'] = dataSB['description_tokens'].apply(freqDist_wrapper)\n",
        "\n",
        "print('Frequency Tokens : \\n')\n",
        "print(dataSB['description_tokens_fdist'].head(50).apply(lambda x : x.most_common()))"
      ],
      "execution_count": null,
      "outputs": [
        {
          "output_type": "stream",
          "name": "stdout",
          "text": [
            "Frequency Tokens : \n",
            "\n",
            "0     [(kasus, 2), (pada, 2), (aktor, 1), (vin, 1), ...\n",
            "1     [(spbu, 2), (trans, 2), (antara, 1), (pt, 1), ...\n",
            "2     [(kebakaran, 2), (pemerintah, 1), (kota, 1), (...\n",
            "3     [(sekjennbspgibran, 1), (center, 1), (fathul, ...\n",
            "4     [(perempuan, 2), (peringatan, 2), (hari, 2), (...\n",
            "5     [(ekonomi, 2), (menteri, 1), (koordinator, 1),...\n",
            "6     [(pada, 2), (ketiga, 2), (pertumbuhan, 1), (pr...\n",
            "7     [(tanah, 2), (kantor, 1), (wilayah, 1), (kanwi...\n",
            "8     [(dan, 2), (akademi, 1), (teknik, 1), (china, ...\n",
            "9     [(kue, 3), (di, 2), (natal, 2), (dan, 2), (ant...\n",
            "10    [(antara, 1), (direktorat, 1), (reserse, 1), (...\n",
            "11    [(korupsi, 2), (dan, 2), (penyidik, 1), (komis...\n",
            "12    [(ikan, 2), (deputi, 1), (bidang, 1), (kebijak...\n",
            "13    [(dan, 2), (banyudono, 1), (boyolali, 1), (hin...\n",
            "14    [(pt, 2), (pelni, 2), (sebanyak, 1), (pemudik,...\n",
            "15    [(gelar, 2), (indonesia, 2), (empat, 1), (juar...\n",
            "16    [(menteri, 1), (luar, 1), (negeri, 1), (ri, 1)...\n",
            "17    [(di, 2), (surat, 2), (firli, 2), (antara, 1),...\n",
            "18    [(presiden, 2), (gibran, 2), (antara, 1), (jok...\n",
            "19    [(keluarga, 2), (besar, 2), (pecinta, 2), (pre...\n",
            "20    [(terus, 2), (sri, 1), (mulyani, 1), (menegask...\n",
            "21    [(pentagon, 1), (mengungkapkan, 1), (lebih, 1)...\n",
            "22    [(bank, 1), (indonesia, 1), (bi, 1), (melapork...\n",
            "23    [(indonesia, 1), (berencana, 1), (menggencarka...\n",
            "24    [(telkomsel, 1), (xl, 1), (indosat, 1), (dan, ...\n",
            "25    [(utang, 1), (bantuan, 1), (likuiditas, 1), (b...\n",
            "26    [(dalam, 2), (regulasi, 1), (yang, 1), (tepat,...\n",
            "27    [(nomaden, 1), (tv, 1), (merupakan, 1), (pelop...\n",
            "28    [(pertumbuhan, 1), (dana, 1), (pihak, 1), (ket...\n",
            "29    [(ibunya, 2), (jeffrey, 1), (goh, 1), (awalnya...\n",
            "30    [(tidak, 2), (jokowi, 1), (menegaskan, 1), (da...\n",
            "31    [(menteri, 1), (esdm, 1), (blakblakan, 1), (ke...\n",
            "32    [(perbankan, 1), (mulai, 1), (fokus, 1), (memb...\n",
            "33    [(airlangga, 1), (hartarto, 1), (menegaskanuta...\n",
            "34    [(ekonom, 1), (ingatkan, 1), (ancaman, 1), (gl...\n",
            "35    [(dan, 2), (cek, 1), (harga, 1), (terbaru, 1),...\n",
            "36    [(dengan, 2), (spesial, 1), (liburan, 1), (nat...\n",
            "37    [(menteri, 1), (keuangan, 1), (chatib, 1), (ba...\n",
            "38    [(kurator, 1), (ikn, 1), (ridwan, 1), (kamil, ...\n",
            "39    [(amerika, 1), (serikat, 1), (as, 1), (pada, 1...\n",
            "40    [(diketahui, 1), (masih, 1), (ada, 1), (nasaba...\n",
            "41    [(di, 3), (cilacap, 2), (menteri, 1), (esdm, 1...\n",
            "42    [(indonesia, 1), (mengandalkan, 1), (mesin, 1)...\n",
            "43    [(perekonomian, 1), (amerika, 1), (serikat, 1)...\n",
            "44    [(naik, 2), (global, 1), (talent, 1), (index, ...\n",
            "45    [(pemerintah, 1), (tengah, 1), (menjajaki, 1),...\n",
            "46    [(indonesia, 2), (toyota, 1), (telah, 1), (ber...\n",
            "47    [(ojk, 1), (perkuat, 1), (peran, 1), (industri...\n",
            "48    [(juta, 2), (sekitar, 1), (pc, 1), (akan, 1), ...\n",
            "49    [(menteri, 1), (esdm, 1), (arifin, 1), (tasrif...\n",
            "Name: description_tokens_fdist, dtype: object\n"
          ]
        }
      ]
    },
    {
      "cell_type": "markdown",
      "metadata": {
        "id": "oNgujoy0dPSw"
      },
      "source": [
        "# Stopwords\n",
        "Membersihkan teks dari kata-kata yang termasuk ke dalam stopwords"
      ]
    },
    {
      "cell_type": "code",
      "metadata": {
        "colab": {
          "base_uri": "https://localhost:8080/"
        },
        "id": "XQ_gaIXZdgS5",
        "outputId": "53b1c7ed-6688-4020-a2f4-ba584f30d424"
      },
      "source": [
        "nltk.download('stopwords')"
      ],
      "execution_count": null,
      "outputs": [
        {
          "output_type": "stream",
          "name": "stderr",
          "text": [
            "[nltk_data] Downloading package stopwords to /root/nltk_data...\n",
            "[nltk_data]   Unzipping corpora/stopwords.zip.\n"
          ]
        },
        {
          "output_type": "execute_result",
          "data": {
            "text/plain": [
              "True"
            ]
          },
          "metadata": {},
          "execution_count": 26
        }
      ]
    },
    {
      "cell_type": "code",
      "metadata": {
        "id": "PO8UwLZddPSx",
        "colab": {
          "base_uri": "https://localhost:8080/"
        },
        "outputId": "2ed9cb76-d0eb-442c-f681-5a525728f3db"
      },
      "source": [
        "from nltk.corpus import stopwords\n",
        "\n",
        "# ----------------------- get stopword from NLTK stopword -------------------------------\n",
        "# get stopword indonesia\n",
        "list_stopwords = stopwords.words('indonesian')\n",
        "\n",
        "\n",
        "# ---------------------------- manualy add stopword  ------------------------------------\n",
        "# append additional stopword\n",
        "list_stopwords.extend([\"yg\", \"dg\", \"rt\", \"dgn\", \"ny\", \"d\", 'klo',\n",
        "                       'kalo', 'amp', 'biar', 'bikin', 'bilang',\n",
        "                       'gak', 'ga', 'krn', 'nya', 'nih', 'sih',\n",
        "                       'si', 'tau', 'tdk', 'tuh', 'utk', 'ya',\n",
        "                       'jd', 'jgn', 'sdh', 'aja', 'n', 't',\n",
        "                       'nyg', 'hehe', 'pen', 'u', 'nan', 'loh', 'rt',\n",
        "                       '&amp', 'yah', 'bisnis', 'pandemi', 'indonesia'])\n",
        "\n",
        "# convert list to dictionary\n",
        "list_stopwords = set(list_stopwords)\n",
        "\n",
        "#remove stopword pada list token\n",
        "def stopwords_removal(words):\n",
        "    return [word for word in words if word not in list_stopwords]\n",
        "\n",
        "dataSB['description_tokens_WSW'] = dataSB['description_tokens'].apply(stopwords_removal)\n",
        "\n",
        "print(dataSB['description_tokens_WSW'].head(50))"
      ],
      "execution_count": null,
      "outputs": [
        {
          "output_type": "stream",
          "name": "stdout",
          "text": [
            "0     [aktor, vin, diesel, digugat, mantan, asistenn...\n",
            "1     [pt, pertamina, membuka, spbu, modular, tempor...\n",
            "2     [pemerintah, kota, pemkot, depok, jawa, barat,...\n",
            "3     [sekjennbspgibran, center, fathul, nugroho, ca...\n",
            "4     [menteri, pemberdayaan, perempuan, perlindunga...\n",
            "5     [menteri, koordinator, bidang, perekonomian, a...\n",
            "6     [pertumbuhan, produk, domestik, bruto, pdb, ri...\n",
            "7     [kantor, wilayah, kanwil, badan, pertanahan, n...\n",
            "8     [akademi, teknik, china, chinese, academy, of,...\n",
            "9     [sederet, tradisi, natal, keluarga, menyajikan...\n",
            "10    [direktorat, reserse, narkobanbspditresnarkoba...\n",
            "11    [penyidik, komisi, pemberantasan, korupsi, kpk...\n",
            "12    [deputi, bidang, kebijakan, pembangunan, brin,...\n",
            "13    [banyudono, boyolali, karanganom, klaten, kilo...\n",
            "14    [pemudik, kota, batam, kepulauan, riau, mengik...\n",
            "15    [gelar, juara, kado, pengurus, persatuan, catu...\n",
            "16    [menteri, negeri, ri, retno, marsudi, bertemu,...\n",
            "17    [presiden, joko, widodo, jakarta, jumat, menga...\n",
            "18    [presiden, joko, widodo, jakarta, jumat, menga...\n",
            "19    [keluarga, pecinta, walisongo, mendeklarasikan...\n",
            "20    [sri, mulyani, menegaskandampak, konflik, duni...\n",
            "21    [pentagon, negara, bergabung, koalisi, pimpina...\n",
            "22    [bank, bi, melaporkan, likuiditas, perekonomia...\n",
            "23    [berencana, menggencarkan, pengolahan, tebu, b...\n",
            "24    [telkomsel, xl, indosat, smartfrenmempersiapka...\n",
            "25    [utang, bantuan, likuiditas, bank, blbi, menca...\n",
            "26    [regulasi, kesiapan, industri, penunjang, kunc...\n",
            "27    [nomaden, tv, pelopor, produk, layanan, hibura...\n",
            "28    [pertumbuhan, dana, ketiga, dpk, perbankan, me...\n",
            "29    [jeffrey, goh, pegawai, kantoran, bergaji, rp,...\n",
            "30               [jokowi, memasuki, alasan, optimistis]\n",
            "31    [menteri, esdm, blakblakan, kebijakan, pendaft...\n",
            "32    [perbankan, fokus, membiayai, hilirisasi, meng...\n",
            "33    [airlangga, hartarto, menegaskanutang, bernila...\n",
            "34    [ekonom, ingatkan, ancaman, global, wajib, dia...\n",
            "35    [cek, harga, terbaru, hp, xiaomi, redmi, poco,...\n",
            "36    [spesial, liburan, natal, bangga, trans, studi...\n",
            "37    [menteri, keuangan, chatib, basri, penurunan, ...\n",
            "38    [kurator, ikn, ridwan, kamil, tibatiba, bercer...\n",
            "39    [amerika, serikat, as, pekan, meluncurkan, koa...\n",
            "40    [nasabah, bancassurance, mengikuti, restruktur...\n",
            "41    [menteri, esdm, arifin, tasrif, meninjau, kesi...\n",
            "42            [mengandalkan, mesin, mendorong, ekonomi]\n",
            "43    [perekonomian, amerika, serikat, kuartal, keti...\n",
            "44    [global, talent, index, siginifikan, menyebut,...\n",
            "45    [pemerintah, menjajaki, pembukaan, pasar, ekspor]\n",
            "46    [toyota, berkoordinasi, pemerintah, faktafakta...\n",
            "47    [ojk, perkuat, peran, industri, keuangan, doro...\n",
            "48    [juta, pc, sampah, seberat, juta, kilogram, se...\n",
            "49    [menteri, esdm, arifin, tasrif, bukabukaan, up...\n",
            "Name: description_tokens_WSW, dtype: object\n"
          ]
        }
      ]
    },
    {
      "cell_type": "markdown",
      "metadata": {
        "id": "KLT9hddUdPSx"
      },
      "source": [
        "# Normalisasi\n",
        "Mengganti kata-kata tertentu dengan kata lain yang lebih tepat"
      ]
    },
    {
      "cell_type": "code",
      "metadata": {
        "colab": {
          "base_uri": "https://localhost:8080/"
        },
        "id": "yGn1ja6KPtce",
        "outputId": "a14ce70d-6f8f-4a2a-b0fd-ce2368ad6082"
      },
      "source": [
        "#import file xlsx untuk proses normalisasi\n",
        "! gdown --id 13YTqouJ2SNqoqlEnxShPVlbD6emiYo9G #id file di drive"
      ],
      "execution_count": null,
      "outputs": [
        {
          "output_type": "stream",
          "name": "stdout",
          "text": [
            "/usr/local/lib/python3.10/dist-packages/gdown/cli.py:121: FutureWarning: Option `--id` was deprecated in version 4.3.1 and will be removed in 5.0. You don't need to pass it anymore to use a file ID.\n",
            "  warnings.warn(\n",
            "Downloading...\n",
            "From: https://drive.google.com/uc?id=13YTqouJ2SNqoqlEnxShPVlbD6emiYo9G\n",
            "To: /content/normalisasi_pbn_new.xlsx\n",
            "100% 8.56k/8.56k [00:00<00:00, 24.9MB/s]\n"
          ]
        }
      ]
    },
    {
      "cell_type": "code",
      "metadata": {
        "colab": {
          "base_uri": "https://localhost:8080/"
        },
        "id": "PAWdsJhwP6RQ",
        "outputId": "2d5d2f0a-55a4-4467-ef7b-25dfddd76dd5"
      },
      "source": [
        "normalizad_word = pd.read_excel('/content/normalisasi_pbn_new.xlsx') #lokasi file\n",
        "\n",
        "normalizad_word_dict = {}\n",
        "\n",
        "for index, row in normalizad_word.iterrows():\n",
        "    if row[0] not in normalizad_word_dict:\n",
        "        normalizad_word_dict[row[0]] = row[1]\n",
        "\n",
        "def normalized_term(document):\n",
        "    return [normalizad_word_dict[term] if term in normalizad_word_dict else term for term in document]\n",
        "\n",
        "dataSB['description_normalized'] = dataSB['description_tokens_WSW'].apply(normalized_term)\n",
        "\n",
        "dataSB['description_normalized'].head(50)"
      ],
      "execution_count": null,
      "outputs": [
        {
          "output_type": "execute_result",
          "data": {
            "text/plain": [
              "0     [aktor, vin, diesel, digugat, mantan, asistenn...\n",
              "1     [pt, pertamina, membuka, spbu, modular, tempor...\n",
              "2     [pemerintah, kota, pemkot, depok, jawa, barat,...\n",
              "3     [sekjennbspgibran, center, fathul, nugroho, ca...\n",
              "4     [menteri, pemberdayaan, perempuan, perlindunga...\n",
              "5     [menteri, koordinator, bidang, perekonomian, a...\n",
              "6     [pertumbuhan, produk, domestik, bruto, pdb, ri...\n",
              "7     [kantor, wilayah, kanwil, badan, pertanahan, n...\n",
              "8     [akademi, teknik, china, chinese, academy, of,...\n",
              "9     [sederet, tradisi, natal, keluarga, menyajikan...\n",
              "10    [direktorat, reserse, narkobanbspditresnarkoba...\n",
              "11    [penyidik, komisi, pemberantasan, korupsi, kpk...\n",
              "12    [deputi, bidang, kebijakan, pembangunan, brin,...\n",
              "13    [banyudono, boyolali, karanganom, klaten, kilo...\n",
              "14    [pemudik, kota, batam, kepulauan, riau, mengik...\n",
              "15    [gelar, juara, kado, pengurus, persatuan, catu...\n",
              "16    [menteri, negeri, ri, retno, marsudi, bertemu,...\n",
              "17    [presiden, joko, widodo, jakarta, jumat, menga...\n",
              "18    [presiden, joko, widodo, jakarta, jumat, menga...\n",
              "19    [keluarga, pecinta, walisongo, mendeklarasikan...\n",
              "20    [sri, mulyani, menegaskandampak, konflik, duni...\n",
              "21    [pentagon, negara, bergabung, koalisi, pimpina...\n",
              "22    [bank, bi, melaporkan, likuiditas, perekonomia...\n",
              "23    [berencana, menggencarkan, pengolahan, tebu, b...\n",
              "24    [telkomsel, xl, indosat, smartfrenmempersiapka...\n",
              "25    [utang, bantuan, likuiditas, bank, blbi, menca...\n",
              "26    [regulasi, kesiapan, industri, penunjang, kunc...\n",
              "27    [nomaden, tv, pelopor, produk, layanan, hibura...\n",
              "28    [pertumbuhan, dana, ketiga, dpk, perbankan, me...\n",
              "29    [jeffrey, goh, pegawai, kantoran, bergaji, rup...\n",
              "30               [jokowi, memasuki, alasan, optimistis]\n",
              "31    [menteri, esdm, blakblakan, kebijakan, pendaft...\n",
              "32    [perbankan, fokus, membiayai, hilirisasi, meng...\n",
              "33    [airlangga, hartarto, menegaskanutang, bernila...\n",
              "34    [ekonom, ingatkan, ancaman, global, wajib, dia...\n",
              "35    [cek, harga, terbaru, hp, xiaomi, redmi, poco,...\n",
              "36    [spesial, liburan, natal, bangga, trans, studi...\n",
              "37    [menteri, keuangan, chatib, basri, penurunan, ...\n",
              "38    [kurator, ikn, ridwan, kamil, tibatiba, bercer...\n",
              "39    [amerika, serikat, as, pekan, meluncurkan, koa...\n",
              "40    [nasabah, bancassurance, mengikuti, restruktur...\n",
              "41    [menteri, esdm, arifin, tasrif, meninjau, kesi...\n",
              "42            [mengandalkan, mesin, mendorong, ekonomi]\n",
              "43    [perekonomian, amerika, serikat, kuartal, keti...\n",
              "44    [global, talent, index, siginifikan, menyebut,...\n",
              "45    [pemerintah, menjajaki, pembukaan, pasar, ekspor]\n",
              "46    [toyota, berkoordinasi, pemerintah, faktafakta...\n",
              "47    [ojk, perkuat, peran, industri, keuangan, doro...\n",
              "48    [juta, pc, sampah, seberat, juta, kilogram, se...\n",
              "49    [menteri, esdm, arifin, tasrif, bukabukaan, up...\n",
              "Name: description_normalized, dtype: object"
            ]
          },
          "metadata": {},
          "execution_count": 32
        }
      ]
    },
    {
      "cell_type": "code",
      "metadata": {
        "id": "TNzlXxSJdPSy",
        "colab": {
          "base_uri": "https://localhost:8080/"
        },
        "outputId": "8fbba5b5-da7e-459e-f1e8-f0eec81261e8"
      },
      "source": [
        "# import Sastrawi package\n",
        "from Sastrawi.Stemmer.StemmerFactory import StemmerFactory\n",
        "import swifter\n",
        "\n",
        "# create stemmer\n",
        "factory = StemmerFactory()\n",
        "stemmer = factory.create_stemmer()\n",
        "\n",
        "# stemmed\n",
        "def stemmed_wrapper(term):\n",
        "    return stemmer.stem(term)\n",
        "\n",
        "term_dict = {}\n",
        "\n",
        "for document in dataSB['description_normalized']:\n",
        "    for term in document:\n",
        "        if term not in term_dict:\n",
        "            term_dict[term] = ' '\n",
        "\n",
        "print(len(term_dict))\n"
      ],
      "execution_count": null,
      "outputs": [
        {
          "output_type": "stream",
          "name": "stdout",
          "text": [
            "3391\n"
          ]
        }
      ]
    },
    {
      "cell_type": "code",
      "metadata": {
        "scrolled": true,
        "id": "Kvkan257dPS1",
        "colab": {
          "base_uri": "https://localhost:8080/"
        },
        "outputId": "88987d0c-7ad8-4541-f747-762223d41e5c"
      },
      "source": [
        "for term in term_dict:\n",
        "    term_dict[term] = stemmed_wrapper(term)\n",
        "\n",
        "    # untuk melihat hasilnya silahkan jalankan baris di bawah ini\n",
        "    # print(term,\":\" ,term_dict[term])"
      ],
      "execution_count": null,
      "outputs": [
        {
          "output_type": "stream",
          "name": "stderr",
          "text": [
            "/usr/local/lib/python3.10/dist-packages/ipykernel/ipkernel.py:283: DeprecationWarning: `should_run_async` will not call `transform_cell` automatically in the future. Please pass the result to `transformed_cell` argument and any exception that happen during thetransform in `preprocessing_exc_tuple` in IPython 7.17 and above.\n",
            "  and should_run_async(code)\n"
          ]
        }
      ]
    },
    {
      "cell_type": "code",
      "metadata": {
        "colab": {
          "base_uri": "https://localhost:8080/",
          "height": 257,
          "referenced_widgets": [
            "e9d0645992c34d7db4ae993dd7b10f2a",
            "a88d5c176c6a4eb7978b3fb5585af940",
            "6b2d0e7a548c4c7aa5cc2f4fcb5a7b2a",
            "d5a4239650c84cc99038a03a11d7a39f",
            "5b19a36ddf8d4f45a26cef602695b235",
            "6b49909205fa4e709720637a98d464a0",
            "e287a75f45ae47d18d5787ce9309a00e",
            "a26487a0e7134ac58d9ff92753c84bb8",
            "21cd725a8a4b4d9381406e24146184df",
            "211126871c454db493441d450216e864",
            "1d2a3ff783544d7b91145ff953d76364"
          ]
        },
        "id": "OWpFQKehdPS2",
        "outputId": "d1861725-f020-49b6-c9b4-cf9bd5b015b9"
      },
      "source": [
        "# apply stemmed term to dataframe\n",
        "def get_stemmed_term(document):\n",
        "    return [term_dict[term] for term in document]\n",
        "\n",
        "dataSB['description_tokens_stemmed'] = dataSB['description_normalized'].swifter.apply(get_stemmed_term)\n",
        "\n",
        "print(dataSB['description_tokens_stemmed'])"
      ],
      "execution_count": null,
      "outputs": [
        {
          "output_type": "display_data",
          "data": {
            "text/plain": [
              "Pandas Apply:   0%|          | 0/620 [00:00<?, ?it/s]"
            ],
            "application/vnd.jupyter.widget-view+json": {
              "version_major": 2,
              "version_minor": 0,
              "model_id": "e9d0645992c34d7db4ae993dd7b10f2a"
            }
          },
          "metadata": {}
        },
        {
          "output_type": "stream",
          "name": "stdout",
          "text": [
            "0      [aktor, vin, diesel, gugat, mantan, asisten, l...\n",
            "1      [pt, pertamina, buka, spbu, modular, temporer,...\n",
            "2      [perintah, kota, pemkot, depok, jawa, barat, j...\n",
            "3      [sekjennbspgibran, center, fathul, nugroho, ca...\n",
            "4      [menteri, daya, perempuan, lindung, anak, bint...\n",
            "                             ...                        \n",
            "615    [menteri, negeri,  , keluar, nyata, desak,  , ...\n",
            "616    [ ,  ,  ,  ,  , podium, debat, cawapres, jumat...\n",
            "617    [ ,  ,  ,  , love,  ,  ,  , korea, selatan, ce...\n",
            "618    [polisi, ceko, laku, tembak,  ,  , orang,  , p...\n",
            "619    [calon, wakil, presiden, ri, nomor, urut, mahf...\n",
            "Name: description_tokens_stemmed, Length: 620, dtype: object\n"
          ]
        }
      ]
    },
    {
      "cell_type": "code",
      "metadata": {
        "id": "Lc6tEmgadPS2",
        "colab": {
          "base_uri": "https://localhost:8080/"
        },
        "outputId": "0fa45d8e-9d91-4f4c-9345-0ec5c467a080"
      },
      "source": [
        "#stopwords #2\n",
        "\n",
        "from nltk.corpus import stopwords\n",
        "\n",
        "# ----------------------- get stopword from NLTK stopword -------------------------------\n",
        "# get stopword indonesia\n",
        "list_stopwords = stopwords.words('indonesian')\n",
        "\n",
        "\n",
        "# ---------------------------- manualy add stopword  ------------------------------------\n",
        "# append additional stopword\n",
        "list_stopwords.extend([\"ada\", \"tan\", \"ton\", \"pt\", \"komentar\", \"juta\", \"unit\", \"menang\", \"artikel\",\n",
        "                       \"smartphone\", \"tagar\", \"sedia\", \"kaskus\", \"seksi\"])\n",
        "\n",
        "# convert list to dictionary\n",
        "list_stopwords = set(list_stopwords)\n",
        "\n",
        "#remove stopword pada list token\n",
        "def stopwords_removal(words):\n",
        "    return [word for word in words if word not in list_stopwords]\n",
        "\n",
        "dataSB['description_tokens_stemmed2'] = dataSB['description_tokens_stemmed'].apply(stopwords_removal)\n",
        "\n",
        "print(dataSB['description_tokens_stemmed2'].head(50))"
      ],
      "execution_count": null,
      "outputs": [
        {
          "output_type": "stream",
          "name": "stdout",
          "text": [
            "0     [aktor, vin, diesel, gugat, mantan, asisten, l...\n",
            "1     [pertamina, buka, spbu, modular, temporer, jal...\n",
            "2     [perintah, kota, pemkot, depok, jawa, barat, j...\n",
            "3     [sekjennbspgibran, center, fathul, nugroho, ca...\n",
            "4     [menteri, daya, perempuan, lindung, anak, bint...\n",
            "5     [menteri, koordinator, bidang, ekonomi, airlan...\n",
            "6     [tumbuh, produk, domestik, bruto, pdb, riil, a...\n",
            "7     [kantor, wilayah, kanwil, badan, tanah, nasion...\n",
            "8     [akademi, teknik, china, chinese, academy, of,...\n",
            "9     [deret, tradisi, natal, keluarga, saji, kue, k...\n",
            "10    [direktorat, reserse, narkobanbspditresnarkoba...\n",
            "11    [sidik, komisi, berantas, korupsi, kpk, sita, ...\n",
            "12    [deputi, bidang, bijak, bangun, brin, mego, pi...\n",
            "13    [banyudono, boyolali, karanganom, klaten, kilo...\n",
            "14    [mudik, kota, batam, pulau, riau, program, mud...\n",
            "15    [gelar, juara, kado, urus, catur, pb, cas, jel...\n",
            "16    [menteri, negeri, ri, retno, marsudi, temu, me...\n",
            "17    [presiden, joko, widodo, jakarta, jumat, surat...\n",
            "18    [presiden, joko, widodo, jakarta, jumat, temu,...\n",
            "19    [keluarga, cinta, walisongo, deklarasi, dukung...\n",
            "20    [sri, mulyani, menegaskandampak, konflik, duni...\n",
            "21    [pentagon, negara, gabung, koalisi, pimpin, am...\n",
            "22    [bank, bi, lapor, likuiditas, ekonomi, uang, e...\n",
            "23    [rencana, gencar, olah, tebu, bioetanol, bahan...\n",
            "24    [telkomsel, xl, indosat, smartfrenmempersiapka...\n",
            "25    [utang, bantu, likuiditas, bank, blbi, capai, ...\n",
            "26    [regulasi, kesiap, industri, tunjang, kunci, t...\n",
            "27    [nomaden, tv, pelopor, produk, layan, hibur, i...\n",
            "28        [tumbuh, dana, dpk, perban, lambat, november]\n",
            "29    [jeffrey, goh, pegawai, kantor, gaji, rupiah, ...\n",
            "30                    [jokowi, pasuk, alas, optimistis]\n",
            "31    [menteri, esdm, blakblakan, bijak, daftar, bel...\n",
            "32    [perban, fokus, biaya, hilir, gelontor, bas, t...\n",
            "33    [airlangga, hartarto, menegaskanutang, nila, r...\n",
            "34       [ekonom, ancam, global, wajib, antisipasi, ri]\n",
            "35    [cek, harga, hp, xiaomi, redmi, poco, diskon, ...\n",
            "36    [spesial, libur, natal, bangga, trans, studio,...\n",
            "37    [menteri, uang, chatib, basri, turun, tingkat,...\n",
            "38    [kurator, ikn, ridwan, kamil, tibatiba, cerita...\n",
            "39    [amerika, serikat, as, pekan, luncur, koalisi,...\n",
            "40    [nasabah, bancassurance, restrukturisasi, guga...\n",
            "41    [menteri, esdm, arifin, tasrif, tinjau, kesiap...\n",
            "42                      [andal, mesin, dorong, ekonomi]\n",
            "43         [ekonomi, amerika, serikat, kuartal, tumbuh]\n",
            "44    [global, talent, index, siginifikan, indeks, a...\n",
            "45               [perintah, jajak, buka, pasar, ekspor]\n",
            "46     [toyota, koordinasi, perintah, faktafakta, kait]\n",
            "47    [ojk, kuat, peran, industri, uang, dorong, mes...\n",
            "48    [pc, sampah, berat, kilogram, tara, berat, mobil]\n",
            "49    [menteri, esdm, arifin, tasrif, bukabukaan, up...\n",
            "Name: description_tokens_stemmed2, dtype: object\n"
          ]
        }
      ]
    },
    {
      "cell_type": "code",
      "metadata": {
        "id": "bWZQiEXPdPS3",
        "colab": {
          "base_uri": "https://localhost:8080/"
        },
        "outputId": "ff6c0060-5883-4465-a00c-be2adb8c0e9f"
      },
      "source": [
        "for i in range(len(dataSB)):\n",
        "        a=dataSB.iloc[i][6]\n",
        "        document.append(a)\n",
        "\n",
        "document[0:5]"
      ],
      "execution_count": null,
      "outputs": [
        {
          "output_type": "execute_result",
          "data": {
            "text/plain": [
              "['calon', 'wakil', 'presiden', 'ri', 'nomor']"
            ]
          },
          "metadata": {},
          "execution_count": 40
        }
      ]
    },
    {
      "cell_type": "code",
      "metadata": {
        "id": "uhGB8a3HdPS3",
        "colab": {
          "base_uri": "https://localhost:8080/"
        },
        "outputId": "84f131e0-c0e2-4fdf-9b9d-a4ac205f0bfb"
      },
      "source": [
        "doc_clean = dataSB['description_tokens_stemmed2']\n",
        "doc_clean"
      ],
      "execution_count": null,
      "outputs": [
        {
          "output_type": "execute_result",
          "data": {
            "text/plain": [
              "0      [aktor, vin, diesel, gugat, mantan, asisten, l...\n",
              "1      [pertamina, buka, spbu, modular, temporer, jal...\n",
              "2      [perintah, kota, pemkot, depok, jawa, barat, j...\n",
              "3      [sekjennbspgibran, center, fathul, nugroho, ca...\n",
              "4      [menteri, daya, perempuan, lindung, anak, bint...\n",
              "                             ...                        \n",
              "615    [menteri, negeri,  , nyata, desak,  , gabung, ...\n",
              "616    [ ,  ,  ,  ,  , podium, debat, cawapres, jumat...\n",
              "617    [ ,  ,  ,  , love,  ,  ,  , korea, selatan, ce...\n",
              "618    [polisi, ceko, laku, tembak,  ,  , orang,  , p...\n",
              "619    [calon, wakil, presiden, ri, nomor, urut, mahf...\n",
              "Name: description_tokens_stemmed2, Length: 620, dtype: object"
            ]
          },
          "metadata": {},
          "execution_count": 41
        }
      ]
    },
    {
      "cell_type": "markdown",
      "metadata": {
        "id": "7IpABMN5dPS4"
      },
      "source": [
        "# LDA model using gensim\n",
        "Proses topic modeling dengan LDA gensim"
      ]
    },
    {
      "cell_type": "code",
      "metadata": {
        "id": "gsrO1YZcdPS3",
        "colab": {
          "base_uri": "https://localhost:8080/"
        },
        "outputId": "62584558-9bf6-4a77-8d24-d0db00ef98fd"
      },
      "source": [
        "import gensim\n",
        "from gensim import corpora\n",
        "\n",
        "dictionary = corpora.Dictionary(doc_clean)\n",
        "print(dictionary)\n",
        "\n",
        "doc_term_matrix = [dictionary.doc2bow(doc) for doc in doc_clean]"
      ],
      "execution_count": null,
      "outputs": [
        {
          "output_type": "stream",
          "name": "stdout",
          "text": [
            "Dictionary<2371 unique tokens: ['aktor', 'asisten', 'asta', 'diesel', 'film']...>\n"
          ]
        }
      ]
    },
    {
      "cell_type": "code",
      "metadata": {
        "id": "IjX9uZ-udPS4"
      },
      "source": [
        "# Creating the object for LDA model using gensim library\n",
        "Lda = gensim.models.ldamodel.LdaModel\n",
        "\n",
        "total_topics = 3 # jumlah topik yang akan di extract\n",
        "number_words = 10 # jumlah kata per topik"
      ],
      "execution_count": null,
      "outputs": []
    },
    {
      "cell_type": "code",
      "metadata": {
        "id": "NcPeAh8PdPS4",
        "colab": {
          "base_uri": "https://localhost:8080/"
        },
        "outputId": "c3907c56-6f12-49de-e878-dbedd6aa83b3"
      },
      "source": [
        "# Running and Trainign LDA model on the document term matrix.\n",
        "lda_model = Lda(doc_term_matrix, num_topics=total_topics, id2word = dictionary, passes=50)\n",
        "\n",
        "lda_model.show_topics(num_topics=total_topics, num_words=number_words)"
      ],
      "execution_count": null,
      "outputs": [
        {
          "output_type": "execute_result",
          "data": {
            "text/plain": [
              "[(0,\n",
              "  '0.015*\"cawapres\" + 0.014*\"presiden\" + 0.012*\"debat\" + 0.011*\"jakarta\" + 0.010*\"jokowi\" + 0.008*\"md\" + 0.008*\"mahfud\" + 0.008*\"nomor\" + 0.007*\"jpnncom\" + 0.007*\"kpk\"'),\n",
              " (1,\n",
              "  '0.007*\"menteri\" + 0.007*\"kota\" + 0.007*\"natal\" + 0.006*\"jakarta\" + 0.005*\"ekonomi\" + 0.004*\"jpnncom\" + 0.004*\"timur\" + 0.004*\"jatimjpnncom\" + 0.004*\"rupiah\" + 0.004*\"surabaya\"'),\n",
              " (2,\n",
              "  '0.174*\" \" + 0.006*\"jakarta\" + 0.005*\"jpnncom\" + 0.004*\"kerja\" + 0.004*\"natal\" + 0.004*\"negeri\" + 0.004*\"milik\" + 0.004*\"kota\" + 0.004*\"desember\" + 0.004*\"orang\"')]"
            ]
          },
          "metadata": {},
          "execution_count": 44
        }
      ]
    },
    {
      "cell_type": "code",
      "metadata": {
        "id": "WrqQ9VKidPS4",
        "colab": {
          "base_uri": "https://localhost:8080/"
        },
        "outputId": "d621b808-a858-432b-f5a3-fbaa8e91e46f"
      },
      "source": [
        "# Word Count of Topic Keywords\n",
        "\n",
        "from collections import Counter\n",
        "topics = lda_model.show_topics(formatted=False)\n",
        "data_flat = [w for w_list in doc_clean for w in w_list]\n",
        "counter = Counter(data_flat)\n",
        "\n",
        "out = []\n",
        "for i, topic in topics:\n",
        "    for word, weight in topic:\n",
        "        out.append([word, i , weight, counter[word]])\n",
        "\n",
        "df_imp_wcount = pd.DataFrame(out, columns=['word', 'topic_id', 'importance', 'word_count'])\n",
        "print(df_imp_wcount)"
      ],
      "execution_count": null,
      "outputs": [
        {
          "output_type": "stream",
          "name": "stdout",
          "text": [
            "            word  topic_id  importance  word_count\n",
            "0       cawapres         0    0.015074          52\n",
            "1       presiden         0    0.013955          50\n",
            "2          debat         0    0.012192          42\n",
            "3        jakarta         0    0.011395          77\n",
            "4         jokowi         0    0.009876          34\n",
            "5             md         0    0.008446          29\n",
            "6         mahfud         0    0.008445          29\n",
            "7          nomor         0    0.007575          26\n",
            "8        jpnncom         0    0.007068          55\n",
            "9            kpk         0    0.006740          29\n",
            "10       menteri         1    0.007490          33\n",
            "11          kota         1    0.007133          36\n",
            "12         natal         1    0.006834          33\n",
            "13       jakarta         1    0.006036          77\n",
            "14       ekonomi         1    0.005414          48\n",
            "15       jpnncom         1    0.004377          55\n",
            "16         timur         1    0.004316          12\n",
            "17  jatimjpnncom         1    0.004281          13\n",
            "18        rupiah         1    0.004253          18\n",
            "19      surabaya         1    0.004024          11\n",
            "20                       2    0.174496         622\n",
            "21       jakarta         2    0.006015          77\n",
            "22       jpnncom         2    0.005367          55\n",
            "23         kerja         2    0.004268          21\n",
            "24         natal         2    0.004042          33\n",
            "25        negeri         2    0.003954          18\n",
            "26         milik         2    0.003775          25\n",
            "27          kota         2    0.003692          36\n",
            "28      desember         2    0.003629          27\n",
            "29         orang         2    0.003606          18\n"
          ]
        }
      ]
    },
    {
      "cell_type": "code",
      "metadata": {
        "colab": {
          "base_uri": "https://localhost:8080/"
        },
        "id": "VyMPU4DEpYcv",
        "outputId": "8f107f6b-234f-46f2-faee-bbbde975c90d"
      },
      "source": [
        "from google.colab import drive\n",
        "drive.mount('drive')"
      ],
      "execution_count": null,
      "outputs": [
        {
          "output_type": "stream",
          "name": "stdout",
          "text": [
            "Mounted at drive\n"
          ]
        }
      ]
    },
    {
      "cell_type": "code",
      "metadata": {
        "id": "dF8NhoAzqtcQ"
      },
      "source": [
        "#simpan ke google drive\n",
        "df_imp_wcount.to_csv('df_imp_wcount.csv')\n",
        "!cp df_imp_wcount.csv \"drive/My Drive/Colab Notebooks/LDA Indonesia/\""
      ],
      "execution_count": null,
      "outputs": []
    },
    {
      "cell_type": "code",
      "metadata": {
        "id": "u_fmI6SedPS4"
      },
      "source": [
        "#jika simpan ke local drive\n",
        "#filedisimpan='df_imp_wcount.xlsx'\n",
        "#df_imp_wcount.to_excel(filedisimpan, index = False, header=True)"
      ],
      "execution_count": null,
      "outputs": []
    },
    {
      "cell_type": "code",
      "metadata": {
        "id": "ciVXI1gtdPS4"
      },
      "source": [
        "#Dominant topic and its percentage contribution in each topic\n",
        "def format_topics_sentences(ldamodel=None, corpus=doc_term_matrix, texts=document):\n",
        "    # Init output\n",
        "    sent_topics_df = pd.DataFrame()\n",
        "\n",
        "    # Get main topic in each document\n",
        "    for i, row_list in enumerate(ldamodel[corpus]):\n",
        "        row = row_list[0] if ldamodel.per_word_topics else row_list\n",
        "        # print(row)\n",
        "        row = sorted(row, key=lambda x: (x[1]), reverse=True)\n",
        "        # Get the Dominant topic, Perc Contribution and Keywords for each document\n",
        "        for j, (topic_num, prop_topic) in enumerate(row):\n",
        "            if j == 0:  # => dominant topic\n",
        "                wp = ldamodel.show_topic(topic_num)\n",
        "                topic_keywords = \", \".join([word for word, prop in wp])\n",
        "                sent_topics_df = sent_topics_df.append(pd.Series([int(topic_num), round(prop_topic,4), topic_keywords]), ignore_index=True)\n",
        "            else:\n",
        "                break\n",
        "    sent_topics_df.columns = ['Dominant_Topic', 'Perc_Contribution', 'Topic_Keywords']\n",
        "\n",
        "    # Add original text to the end of the output\n",
        "    contents = pd.Series(texts)\n",
        "    sent_topics_df = pd.concat([sent_topics_df, contents], axis=1)\n",
        "    return(sent_topics_df)"
      ],
      "execution_count": null,
      "outputs": []
    },
    {
      "cell_type": "code",
      "metadata": {
        "id": "_OebSqAFdPS4",
        "colab": {
          "base_uri": "https://localhost:8080/"
        },
        "outputId": "98ace629-f9b5-4447-9a53-82ac948037cb"
      },
      "source": [
        "df_topic_sents_keywords = format_topics_sentences(ldamodel=lda_model, corpus=doc_term_matrix, texts=doc_clean)\n",
        "\n",
        "# Format\n",
        "df_dominant_topic = df_topic_sents_keywords.reset_index()\n",
        "df_dominant_topic.columns = ['Document_No', 'Dominant_Topic', 'Topic_Perc_Contrib', 'Keywords', 'Text']\n",
        "print(df_dominant_topic.head(10))"
      ],
      "execution_count": null,
      "outputs": [
        {
          "output_type": "stream",
          "name": "stdout",
          "text": [
            "   Document_No  Dominant_Topic  Topic_Perc_Contrib  \\\n",
            "0            0               2              0.9612   \n",
            "1            1               2              0.9611   \n",
            "2            2               1              0.9589   \n",
            "3            3               0              0.9558   \n",
            "4            4               0              0.9384   \n",
            "5            5               1              0.9492   \n",
            "6            6               2              0.9645   \n",
            "7            7               1              0.9706   \n",
            "8            8               1              0.9667   \n",
            "9            9               2              0.9616   \n",
            "\n",
            "                                            Keywords  \\\n",
            "0   , jakarta, jpnncom, kerja, natal, negeri, mil...   \n",
            "1   , jakarta, jpnncom, kerja, natal, negeri, mil...   \n",
            "2  menteri, kota, natal, jakarta, ekonomi, jpnnco...   \n",
            "3  cawapres, presiden, debat, jakarta, jokowi, md...   \n",
            "4  cawapres, presiden, debat, jakarta, jokowi, md...   \n",
            "5  menteri, kota, natal, jakarta, ekonomi, jpnnco...   \n",
            "6   , jakarta, jpnncom, kerja, natal, negeri, mil...   \n",
            "7  menteri, kota, natal, jakarta, ekonomi, jpnnco...   \n",
            "8  menteri, kota, natal, jakarta, ekonomi, jpnnco...   \n",
            "9   , jakarta, jpnncom, kerja, natal, negeri, mil...   \n",
            "\n",
            "                                                Text  \n",
            "0  [aktor, vin, diesel, gugat, mantan, asisten, l...  \n",
            "1  [pertamina, buka, spbu, modular, temporer, jal...  \n",
            "2  [perintah, kota, pemkot, depok, jawa, barat, j...  \n",
            "3  [sekjennbspgibran, center, fathul, nugroho, ca...  \n",
            "4  [menteri, daya, perempuan, lindung, anak, bint...  \n",
            "5  [menteri, koordinator, bidang, ekonomi, airlan...  \n",
            "6  [tumbuh, produk, domestik, bruto, pdb, riil, a...  \n",
            "7  [kantor, wilayah, kanwil, badan, tanah, nasion...  \n",
            "8  [akademi, teknik, china, chinese, academy, of,...  \n",
            "9  [deret, tradisi, natal, keluarga, saji, kue, k...  \n"
          ]
        }
      ]
    },
    {
      "cell_type": "code",
      "metadata": {
        "id": "uxlqTXuip97X"
      },
      "source": [
        "#simpan ke google drive\n",
        "df_dominant_topic.to_csv('df_dominant_topic.csv')\n",
        "!cp df_dominant_topic.csv \"drive/My Drive/Colab Notebooks/LDA Indonesia/\""
      ],
      "execution_count": null,
      "outputs": []
    },
    {
      "cell_type": "code",
      "metadata": {
        "id": "3tVzJCX5dPS5"
      },
      "source": [
        "# jika simpan ke local drive\n",
        "# filedisimpan='df_dominant_topic.xlsx'\n",
        "# df_dominant_topic.to_excel(filedisimpan, index = False, header=True)"
      ],
      "execution_count": null,
      "outputs": []
    },
    {
      "cell_type": "code",
      "metadata": {
        "id": "CPxZdk2adPS5"
      },
      "source": [
        "import pyLDAvis.gensim\n",
        "import pickle\n",
        "import pyLDAvis\n",
        "# Visualize the topics\n",
        "pyLDAvis.enable_notebook()"
      ],
      "execution_count": null,
      "outputs": []
    },
    {
      "cell_type": "code",
      "metadata": {
        "id": "Yh7qhTZadPS5",
        "colab": {
          "base_uri": "https://localhost:8080/"
        },
        "outputId": "049d4dc5-f4fd-4e59-8ee2-f7b6872e5585"
      },
      "source": [
        "import os\n",
        "LDAvis_data_filepath = os.path.join('ldavis_prepared_'+str(total_topics))"
      ],
      "execution_count": null,
      "outputs": [
        {
          "output_type": "stream",
          "name": "stderr",
          "text": [
            "/usr/local/lib/python3.10/dist-packages/ipykernel/ipkernel.py:283: DeprecationWarning: `should_run_async` will not call `transform_cell` automatically in the future. Please pass the result to `transformed_cell` argument and any exception that happen during thetransform in `preprocessing_exc_tuple` in IPython 7.17 and above.\n",
            "  and should_run_async(code)\n"
          ]
        }
      ]
    },
    {
      "cell_type": "code",
      "metadata": {
        "id": "AtNwD5fcdPS5",
        "colab": {
          "base_uri": "https://localhost:8080/"
        },
        "outputId": "1d8c73fc-e326-45d1-b187-5b764529d06b"
      },
      "source": [
        "corpus = [dictionary.doc2bow(text) for text in doc_clean]"
      ],
      "execution_count": null,
      "outputs": [
        {
          "output_type": "stream",
          "name": "stderr",
          "text": [
            "/usr/local/lib/python3.10/dist-packages/ipykernel/ipkernel.py:283: DeprecationWarning: `should_run_async` will not call `transform_cell` automatically in the future. Please pass the result to `transformed_cell` argument and any exception that happen during thetransform in `preprocessing_exc_tuple` in IPython 7.17 and above.\n",
            "  and should_run_async(code)\n"
          ]
        }
      ]
    },
    {
      "cell_type": "code",
      "metadata": {
        "id": "6p2NGYvMdPS5",
        "colab": {
          "base_uri": "https://localhost:8080/"
        },
        "outputId": "88d43274-fee8-43a4-946a-3577c6b78639"
      },
      "source": [
        "# proses ini mungkin agak lama\n",
        "if 1 == 1:\n",
        "    LDAvis_prepared = pyLDAvis.gensim.prepare(lda_model, corpus, dictionary)\n",
        "    with open(LDAvis_data_filepath, 'wb') as f:\n",
        "        pickle.dump(LDAvis_prepared, f)"
      ],
      "execution_count": null,
      "outputs": [
        {
          "output_type": "stream",
          "name": "stderr",
          "text": [
            "/usr/local/lib/python3.10/dist-packages/ipykernel/ipkernel.py:283: DeprecationWarning: `should_run_async` will not call `transform_cell` automatically in the future. Please pass the result to `transformed_cell` argument and any exception that happen during thetransform in `preprocessing_exc_tuple` in IPython 7.17 and above.\n",
            "  and should_run_async(code)\n"
          ]
        }
      ]
    },
    {
      "cell_type": "code",
      "metadata": {
        "id": "436P-l4udPS5",
        "colab": {
          "base_uri": "https://localhost:8080/"
        },
        "outputId": "5c33f881-1e73-4533-ea39-03b8ac7052ce"
      },
      "source": [
        "# load the pre-prepared pyLDAvis data from disk\n",
        "with open(LDAvis_data_filepath, 'rb') as f:\n",
        "    LDAvis_prepared = pickle.load(f)"
      ],
      "execution_count": null,
      "outputs": [
        {
          "output_type": "stream",
          "name": "stderr",
          "text": [
            "/usr/local/lib/python3.10/dist-packages/ipykernel/ipkernel.py:283: DeprecationWarning: `should_run_async` will not call `transform_cell` automatically in the future. Please pass the result to `transformed_cell` argument and any exception that happen during thetransform in `preprocessing_exc_tuple` in IPython 7.17 and above.\n",
            "  and should_run_async(code)\n"
          ]
        }
      ]
    },
    {
      "cell_type": "code",
      "metadata": {
        "id": "Uk4RnnzSdPS5",
        "colab": {
          "base_uri": "https://localhost:8080/"
        },
        "outputId": "8c90f6d3-820d-4332-b97e-477ad81ecf85"
      },
      "source": [
        "pyLDAvis.save_html(LDAvis_prepared, 'drive/My Drive/Colab Notebooks/LDA Indonesia/ldavis_prepared_'+ str(total_topics) +'.html')"
      ],
      "execution_count": null,
      "outputs": [
        {
          "output_type": "stream",
          "name": "stderr",
          "text": [
            "/usr/local/lib/python3.10/dist-packages/ipykernel/ipkernel.py:283: DeprecationWarning: `should_run_async` will not call `transform_cell` automatically in the future. Please pass the result to `transformed_cell` argument and any exception that happen during thetransform in `preprocessing_exc_tuple` in IPython 7.17 and above.\n",
            "  and should_run_async(code)\n"
          ]
        }
      ]
    },
    {
      "cell_type": "code",
      "metadata": {
        "id": "dRBL8ZqcdPS6",
        "colab": {
          "base_uri": "https://localhost:8080/",
          "height": 916
        },
        "outputId": "1ee91cf0-8643-4460-d4b0-c2e0775a37c2"
      },
      "source": [
        "# proses ini mungkin agak lama\n",
        "LDAvis_prepared"
      ],
      "execution_count": null,
      "outputs": [
        {
          "output_type": "stream",
          "name": "stderr",
          "text": [
            "/usr/local/lib/python3.10/dist-packages/ipykernel/ipkernel.py:283: DeprecationWarning: `should_run_async` will not call `transform_cell` automatically in the future. Please pass the result to `transformed_cell` argument and any exception that happen during thetransform in `preprocessing_exc_tuple` in IPython 7.17 and above.\n",
            "  and should_run_async(code)\n"
          ]
        },
        {
          "output_type": "execute_result",
          "data": {
            "text/plain": [
              "PreparedData(topic_coordinates=              x         y  topics  cluster       Freq\n",
              "topic                                                \n",
              "2      0.119707 -0.076626       1        1  36.725690\n",
              "0     -0.139816 -0.047721       2        1  35.655233\n",
              "1      0.020110  0.124347       3        1  27.619077, topic_info=            Term        Freq       Total Category  logprob  loglift\n",
              "2364              480.000000  480.000000  Default  30.0000  30.0000\n",
              "280     cawapres   40.000000   40.000000  Default  29.0000  29.0000\n",
              "274     presiden   39.000000   39.000000  Default  28.0000  28.0000\n",
              "281        debat   33.000000   33.000000  Default  27.0000  27.0000\n",
              "269       jokowi   26.000000   26.000000  Default  26.0000  26.0000\n",
              "...          ...         ...         ...      ...      ...      ...\n",
              "214   masyarakat    6.135895   15.093930   Topic3  -5.8196   0.3865\n",
              "228           ri    5.889309   13.567793   Topic3  -5.8606   0.4521\n",
              "20          jawa    5.910248   14.344837   Topic3  -5.8570   0.4000\n",
              "270        jumat    6.624839   26.598329   Topic3  -5.7429  -0.1034\n",
              "662       israel    5.134046   10.532704   Topic3  -5.9978   0.5681\n",
              "\n",
              "[196 rows x 6 columns], token_table=      Topic      Freq        Term\n",
              "term                             \n",
              "2364      1  0.999852            \n",
              "72        3  0.967885   airlangga\n",
              "557       1  0.867608        alat\n",
              "31        3  0.812029  antisipasi\n",
              "434       3  0.903170      arifin\n",
              "...     ...       ...         ...\n",
              "116       1  0.614240     wilayah\n",
              "116       2  0.087749     wilayah\n",
              "116       3  0.263246     wilayah\n",
              "1963      3  0.675625       willy\n",
              "1474      1  0.945244  yogyakarta\n",
              "\n",
              "[261 rows x 3 columns], R=30, lambda_step=0.01, plot_opts={'xlab': 'PC1', 'ylab': 'PC2'}, topic_order=[3, 1, 2])"
            ],
            "text/html": [
              "\n",
              "<link rel=\"stylesheet\" type=\"text/css\" href=\"https://cdn.jsdelivr.net/gh/bmabey/pyLDAvis/pyLDAvis/js/ldavis.v1.0.0.css\">\n",
              "\n",
              "\n",
              "<div id=\"ldavis_el330140088607406816893821445\"></div>\n",
              "<script type=\"text/javascript\">\n",
              "\n",
              "var ldavis_el330140088607406816893821445_data = {\"mdsDat\": {\"x\": [0.11970665563782437, -0.13981622701594187, 0.020109571378117547], \"y\": [-0.07662648574602887, -0.047720721947360066, 0.12434720769338894], \"topics\": [1, 2, 3], \"cluster\": [1, 1, 1], \"Freq\": [36.72569047359006, 35.65523260500469, 27.61907692140525]}, \"tinfo\": {\"Term\": [\" \", \"cawapres\", \"presiden\", \"debat\", \"jokowi\", \"md\", \"mahfud\", \"nomor\", \"urut\", \"firli\", \"calon\", \"ganjar\", \"pilpres\", \"natal\", \"bahuri\", \"malam\", \"kpk\", \"negara\", \"timur\", \"menteri\", \"surabaya\", \"gibran\", \"capres\", \"jatimjpnncom\", \"widodo\", \"joko\", \"kota\", \"baca\", \"kendara\", \"triliun\", \" \", \"sri\", \"mulyani\", \"yogyakarta\", \"suami\", \"junior\", \"masuk\", \"otoritas\", \"jasa\", \"optimis\", \"pamer\", \"jogjajpnncom\", \"indrawati\", \"alat\", \"jalur\", \"liem\", \"titi\", \"eropa\", \"skincare\", \"solo\", \"ceko\", \"tembak\", \"praha\", \"jember\", \"negaranegara\", \"ribu\", \"real\", \"uni\", \"warna\", \"thomas\", \"mobil\", \"semarang\", \"negeri\", \"ojk\", \"kerja\", \"tarik\", \"orang\", \"cerita\", \"daerah\", \"buka\", \"dunia\", \"bri\", \"milik\", \"polisi\", \"sosial\", \"uang\", \"wilayah\", \"natal\", \"desember\", \"jpnncom\", \"gelar\", \"keluarga\", \"jakarta\", \"kamis\", \"kota\", \"jawa\", \"hadir\", \"kait\", \"ekonomi\", \"jalan\", \"menteri\", \"libur\", \"cawapres\", \"debat\", \"jokowi\", \"md\", \"mahfud\", \"nomor\", \"urut\", \"firli\", \"ganjar\", \"pilpres\", \"bahuri\", \"calon\", \"gibran\", \"capres\", \"presiden\", \"widodo\", \"joko\", \"kpu\", \"rakabuming\", \"etik\", \"dewas\", \"pranowo\", \"pimpin\", \"negara\", \"raka\", \"awas\", \"baca\", \"dewan\", \"city\", \"pranowomahfud\", \"malam\", \"komisi\", \"pilih\", \"kpk\", \"pekan\", \"surat\", \"wakil\", \"jakarta\", \"jumat\", \"jpnncom\", \"ekonomi\", \"putus\", \"ketua\", \"timnas\", \"surabaya\", \"timur\", \"kendara\", \"triliun\", \"esdm\", \"tugas\", \"airlangga\", \"tasrif\", \"arifin\", \"arus\", \"hartarto\", \"antisipasi\", \"cadang\", \"ukm\", \"jatimjpnncom\", \"live\", \"malang\", \"potret\", \"nikita\", \"willy\", \"narkotika\", \"kian\", \"bmkg\", \"juanda\", \"klimatologi\", \"meteorologi\", \"internasional\", \"fungsi\", \"jatim\", \"padat\", \"energi\", \"pria\", \"motor\", \"menteri\", \"badan\", \"mudik\", \"main\", \"natal\", \"rupiah\", \"kota\", \"hasil\", \"gaza\", \"denpasar\", \"bal\", \"bangun\", \"libur\", \"depok\", \"global\", \"ekonomi\", \"rilis\", \"jakarta\", \"temu\", \"nasional\", \"warga\", \"jpnncom\", \"masyarakat\", \"ri\", \"jawa\", \"jumat\", \"israel\"], \"Freq\": [480.0, 40.0, 39.0, 33.0, 26.0, 23.0, 23.0, 20.0, 18.0, 16.0, 15.0, 14.0, 14.0, 25.0, 13.0, 17.0, 23.0, 15.0, 9.0, 25.0, 8.0, 11.0, 11.0, 10.0, 10.0, 10.0, 27.0, 12.0, 7.0, 7.0, 479.5471228809155, 8.730109082739189, 8.73010780301656, 7.95892455222637, 6.413903905915477, 5.650462977024801, 5.648556830170366, 4.872331792156438, 4.872330192503154, 4.864626582213137, 4.10935252320382, 4.106009247838121, 4.103498751972604, 4.102809941268073, 4.081602697807201, 3.3388075340743537, 3.3388075340743537, 3.338668684169214, 3.3386475687458517, 3.3385755843480256, 3.338488883139977, 3.338488883139977, 3.338488883139977, 3.3354904930225286, 3.3310069847952644, 3.2452905233092433, 2.5681144170506944, 2.568084023638279, 2.5680462718207524, 2.5680373137623564, 5.705109692686465, 5.608000500504505, 10.867267626815458, 4.79754512170567, 11.728627172450317, 7.824502487379262, 9.90876689593294, 7.799847991089164, 6.42194760249389, 7.214927089084499, 9.335478032755654, 5.402728511941072, 10.374274320071905, 8.755680500292263, 6.339475237869896, 8.63828898417883, 6.910127232572151, 11.108305943248078, 9.973783204049441, 14.75077150131993, 9.337238291230493, 7.208589262769236, 16.531621992967406, 8.897383547031483, 10.14566402994129, 7.367704855446595, 7.77550062822979, 7.464810208460671, 9.61486323773686, 7.116198407916781, 7.3281108771970045, 6.695124233145263, 40.21742568184134, 32.529290648220915, 26.350305810766276, 22.533970396732272, 22.53213161208513, 20.209499360758887, 17.93060906285955, 15.606965479977378, 14.088669815036193, 14.076092776534175, 12.54021808188193, 14.750089349566496, 11.014594611637486, 11.01097046649174, 37.23312789641714, 10.156797846480977, 10.156764922296416, 8.69473171908048, 7.941676724386624, 7.926445251155813, 7.170214004468437, 6.402218884516577, 6.401302598248154, 13.936376203903084, 4.867244635251505, 4.865126305641118, 11.056405841184898, 4.826379199496414, 4.096010831597665, 4.095216923902043, 15.499333214594744, 8.594675743412884, 10.887242623336347, 17.982589516958875, 7.161161096136425, 8.202715189856091, 11.696020868581897, 30.402440507354676, 16.788733736362715, 18.858315674847045, 16.358515280346904, 10.053014604636747, 9.230814473889142, 9.177712112670651, 8.316900613127752, 8.920568100832774, 6.825646946138563, 6.799691052514452, 5.380727965783889, 4.636914050888271, 4.580132526089512, 3.910988241101715, 3.910988241101715, 3.1811502804963965, 3.1810646270098357, 3.181027815258589, 3.1808331701163763, 3.1768801173517844, 8.848389158826297, 3.145613948160583, 6.884052999985802, 2.447024352370046, 2.447024111770365, 2.447024111770365, 2.446960352854807, 2.4469593904560814, 2.4469449544752004, 2.4469449544752004, 2.4469449544752004, 2.4469444732758374, 2.446895390940842, 2.446887691751039, 2.446881917358686, 2.4468739775692017, 5.917909581142554, 4.661324332159386, 4.65402886862147, 15.48042698498006, 7.574031292581117, 3.93877966969485, 7.278793348393153, 14.123238828835007, 8.789743467696432, 14.741930323042292, 6.105806383492728, 5.662650161207181, 3.7421863918622567, 4.513410384856067, 6.160762719108761, 6.5846228469499835, 4.700083497226892, 5.430190929475323, 11.188376006156417, 4.66153172908471, 12.475003012552394, 6.189718409559952, 5.553115231474835, 5.392844565736708, 9.046534545203285, 6.135895298443081, 5.889309015821037, 5.910247924889624, 6.624838602488387, 5.1340464056880295], \"Total\": [480.0, 40.0, 39.0, 33.0, 26.0, 23.0, 23.0, 20.0, 18.0, 16.0, 15.0, 14.0, 14.0, 25.0, 13.0, 17.0, 23.0, 15.0, 9.0, 25.0, 8.0, 11.0, 11.0, 10.0, 10.0, 10.0, 27.0, 12.0, 7.0, 7.0, 480.07081183323163, 9.23401325249386, 9.234012496918037, 8.46341910782013, 6.922162415306363, 6.151661271251101, 6.151553432410849, 5.380956885777828, 5.38095671346247, 5.3808501465341605, 4.610463987918613, 4.610408067688346, 4.610376154622853, 4.610374802021839, 4.610053450714763, 3.839864966929118, 3.839864966929118, 3.83985308360919, 3.839851704100158, 3.8398463920313555, 3.8398378453933395, 3.8398378453933395, 3.839837864806184, 3.839676519198282, 3.839435467172348, 3.835172977806212, 3.069252587905496, 3.0692497960693075, 3.069247581260743, 3.069246266844449, 6.888272997645187, 6.919488990439882, 14.475631282374337, 6.1479843290007405, 16.824907547896192, 10.65940151068246, 14.5497001375158, 11.504647823699464, 9.126446198281442, 10.698308028312226, 15.328336318895614, 7.645600454970528, 19.82668939978096, 15.944006831944236, 9.909026398262887, 16.150446190632927, 11.396204530483054, 25.49928981241353, 21.345486709843016, 42.65562172137026, 19.16047151581871, 12.270227180440159, 59.40906551287448, 19.061292746132633, 27.773411243305333, 14.344837142038148, 16.695081357812406, 15.242786736932306, 37.16175452424018, 13.662588875864962, 25.425712042817985, 13.543213044139314, 40.72508829113588, 33.038942640611936, 26.88909704564468, 23.047056987255797, 23.047044895882465, 20.74116121656843, 18.435453125214668, 16.129033360985215, 14.592417106852265, 14.591796255433096, 13.054648250978913, 15.361056779146045, 11.517981740947379, 11.51795723997894, 39.122837490675686, 10.745306859627375, 10.74530488648696, 9.212078784608423, 8.443556189815471, 8.443062323144476, 7.674918852913605, 6.906321006199142, 6.906306002272619, 15.362894129355405, 5.3691171789433305, 5.369099237394596, 12.253872543208029, 5.368119726730091, 4.600465364062215, 4.600477867356432, 17.670745527883557, 9.982568797256034, 13.058507020620366, 23.057854508685207, 8.444750596548028, 9.98267404326987, 16.03199354222624, 59.40906551287448, 26.598328782548478, 42.65562172137026, 37.16175452424018, 16.073535578453807, 13.641381969051295, 17.505858070006635, 8.834179216422745, 9.57459200236465, 7.366601849414306, 7.36786930493947, 5.897244848370008, 5.163381035959514, 5.165904499996204, 4.428846616283798, 4.428846675105154, 3.6944491403627064, 3.6944486713212985, 3.6944473937532427, 3.694443565747353, 3.694604693056819, 10.346263167246715, 3.695869226254728, 8.13399856653268, 2.9602238919879698, 2.960224084881907, 2.960224184860237, 2.9602229171232546, 2.960221818120979, 2.9602213990637205, 2.960221419059387, 2.9602214390550525, 2.960220997847022, 2.960221110781918, 2.9602225475471693, 2.9602261963089376, 2.9602209786271825, 7.41148046082719, 5.932279428768036, 5.932887085318704, 25.425712042817985, 11.174371960733218, 5.1977271451211315, 11.188166626675766, 25.49928981241353, 14.202101724913906, 27.773411243305333, 9.705875905138777, 8.963042931644363, 5.205007526141227, 6.707645071232159, 10.479588970779774, 13.543213044139314, 7.4688403576723505, 9.743156241602895, 37.16175452424018, 7.467824686777078, 59.40906551287448, 14.319912908793551, 11.272293621879356, 10.515302412578318, 42.65562172137026, 15.093929557441275, 13.567793460996425, 14.344837142038148, 26.598328782548478, 10.532704343532824], \"Category\": [\"Default\", \"Default\", \"Default\", \"Default\", \"Default\", \"Default\", \"Default\", \"Default\", \"Default\", \"Default\", \"Default\", \"Default\", \"Default\", \"Default\", \"Default\", \"Default\", \"Default\", \"Default\", \"Default\", \"Default\", \"Default\", \"Default\", \"Default\", \"Default\", \"Default\", \"Default\", \"Default\", \"Default\", \"Default\", \"Default\", \"Topic1\", \"Topic1\", \"Topic1\", \"Topic1\", \"Topic1\", \"Topic1\", \"Topic1\", \"Topic1\", \"Topic1\", \"Topic1\", \"Topic1\", \"Topic1\", \"Topic1\", \"Topic1\", \"Topic1\", \"Topic1\", \"Topic1\", \"Topic1\", \"Topic1\", \"Topic1\", \"Topic1\", \"Topic1\", \"Topic1\", \"Topic1\", \"Topic1\", \"Topic1\", \"Topic1\", \"Topic1\", \"Topic1\", \"Topic1\", \"Topic1\", \"Topic1\", \"Topic1\", \"Topic1\", \"Topic1\", \"Topic1\", \"Topic1\", \"Topic1\", \"Topic1\", \"Topic1\", \"Topic1\", \"Topic1\", \"Topic1\", \"Topic1\", \"Topic1\", \"Topic1\", \"Topic1\", \"Topic1\", \"Topic1\", \"Topic1\", \"Topic1\", \"Topic1\", \"Topic1\", \"Topic1\", \"Topic1\", \"Topic1\", \"Topic1\", \"Topic1\", \"Topic1\", \"Topic1\", \"Topic1\", \"Topic1\", \"Topic2\", \"Topic2\", \"Topic2\", \"Topic2\", \"Topic2\", \"Topic2\", \"Topic2\", \"Topic2\", \"Topic2\", \"Topic2\", \"Topic2\", \"Topic2\", \"Topic2\", \"Topic2\", \"Topic2\", \"Topic2\", \"Topic2\", \"Topic2\", \"Topic2\", \"Topic2\", \"Topic2\", \"Topic2\", \"Topic2\", \"Topic2\", \"Topic2\", \"Topic2\", \"Topic2\", \"Topic2\", \"Topic2\", \"Topic2\", \"Topic2\", \"Topic2\", \"Topic2\", \"Topic2\", \"Topic2\", \"Topic2\", \"Topic2\", \"Topic2\", \"Topic2\", \"Topic2\", \"Topic2\", \"Topic2\", \"Topic2\", \"Topic2\", \"Topic3\", \"Topic3\", \"Topic3\", \"Topic3\", \"Topic3\", \"Topic3\", \"Topic3\", \"Topic3\", \"Topic3\", \"Topic3\", \"Topic3\", \"Topic3\", \"Topic3\", \"Topic3\", \"Topic3\", \"Topic3\", \"Topic3\", \"Topic3\", \"Topic3\", \"Topic3\", \"Topic3\", \"Topic3\", \"Topic3\", \"Topic3\", \"Topic3\", \"Topic3\", \"Topic3\", \"Topic3\", \"Topic3\", \"Topic3\", \"Topic3\", \"Topic3\", \"Topic3\", \"Topic3\", \"Topic3\", \"Topic3\", \"Topic3\", \"Topic3\", \"Topic3\", \"Topic3\", \"Topic3\", \"Topic3\", \"Topic3\", \"Topic3\", \"Topic3\", \"Topic3\", \"Topic3\", \"Topic3\", \"Topic3\", \"Topic3\", \"Topic3\", \"Topic3\", \"Topic3\", \"Topic3\", \"Topic3\", \"Topic3\", \"Topic3\", \"Topic3\", \"Topic3\", \"Topic3\"], \"logprob\": [30.0, 29.0, 28.0, 27.0, 26.0, 25.0, 24.0, 23.0, 22.0, 21.0, 20.0, 19.0, 18.0, 17.0, 16.0, 15.0, 14.0, 13.0, 12.0, 11.0, 10.0, 9.0, 8.0, 7.0, 6.0, 5.0, 4.0, 3.0, 2.0, 1.0, -1.7459, -5.7519, -5.7519, -5.8444, -6.0602, -6.187, -6.1873, -6.3351, -6.3351, -6.3367, -6.5054, -6.5062, -6.5069, -6.507, -6.5122, -6.7131, -6.7131, -6.7131, -6.7131, -6.7132, -6.7132, -6.7132, -6.7132, -6.7141, -6.7154, -6.7415, -6.9755, -6.9755, -6.9755, -6.9756, -6.1773, -6.1945, -5.5329, -6.3506, -5.4567, -5.8614, -5.6253, -5.8646, -6.059, -5.9425, -5.6849, -6.2318, -5.5794, -5.749, -6.0719, -5.7625, -5.9857, -5.511, -5.6187, -5.2274, -5.6847, -5.9434, -5.1134, -5.7329, -5.6016, -5.9216, -5.8677, -5.9085, -5.6554, -5.9563, -5.927, -6.0173, -4.1948, -4.407, -4.6176, -4.7741, -4.7742, -4.883, -5.0026, -5.1414, -5.2437, -5.2446, -5.3602, -5.1979, -5.4899, -5.4902, -4.2719, -5.571, -5.571, -5.7264, -5.817, -5.8189, -5.9192, -6.0325, -6.0326, -5.2546, -6.3066, -6.307, -5.4861, -6.315, -6.4791, -6.4793, -5.1483, -5.738, -5.5015, -4.9997, -5.9204, -5.7846, -5.4299, -4.4746, -5.0684, -4.9522, -5.0944, -5.5812, -5.6666, -5.6723, -5.5154, -5.4454, -5.713, -5.7168, -5.9509, -6.0997, -6.112, -6.2699, -6.2699, -6.4765, -6.4765, -6.4765, -6.4766, -6.4778, -5.4535, -6.4877, -5.7045, -6.7389, -6.7389, -6.7389, -6.7389, -6.7389, -6.7389, -6.7389, -6.7389, -6.7389, -6.7389, -6.7389, -6.7389, -6.7389, -5.8557, -6.0944, -6.096, -4.8941, -5.609, -6.2629, -5.6488, -4.9859, -5.4601, -4.943, -5.8245, -5.8998, -6.3141, -6.1267, -5.8155, -5.749, -6.0861, -5.9418, -5.2189, -6.0944, -5.11, -5.8108, -5.9194, -5.9487, -5.4313, -5.8196, -5.8606, -5.857, -5.7429, -5.9978], \"loglift\": [30.0, 29.0, 28.0, 27.0, 26.0, 25.0, 24.0, 23.0, 22.0, 21.0, 20.0, 19.0, 18.0, 17.0, 16.0, 15.0, 14.0, 13.0, 12.0, 11.0, 10.0, 9.0, 8.0, 7.0, 6.0, 5.0, 4.0, 3.0, 2.0, 1.0, 1.0006, 0.9456, 0.9456, 0.9402, 0.9254, 0.9167, 0.9164, 0.9024, 0.9024, 0.9008, 0.8866, 0.8858, 0.8852, 0.8851, 0.8799, 0.8619, 0.8619, 0.8618, 0.8618, 0.8618, 0.8618, 0.8618, 0.8618, 0.8609, 0.8596, 0.8347, 0.8234, 0.8234, 0.8234, 0.8234, 0.8132, 0.7915, 0.715, 0.7537, 0.6409, 0.6925, 0.6175, 0.613, 0.6502, 0.6078, 0.5058, 0.6545, 0.354, 0.4023, 0.555, 0.376, 0.5014, 0.1707, 0.2408, -0.0602, 0.2829, 0.4698, -0.2775, 0.2398, -0.0053, 0.3354, 0.2376, 0.2878, -0.3503, 0.3494, -0.2423, 0.2972, 1.0187, 1.0157, 1.011, 1.0088, 1.0087, 1.0053, 1.0035, 0.9984, 0.9961, 0.9953, 0.9911, 0.9907, 0.9866, 0.9863, 0.9818, 0.9749, 0.9749, 0.9735, 0.97, 0.9681, 0.9633, 0.9555, 0.9553, 0.9338, 0.9331, 0.9327, 0.9284, 0.9249, 0.9151, 0.9149, 0.9002, 0.8816, 0.8494, 0.7827, 0.8664, 0.8349, 0.7159, 0.3614, 0.5711, 0.2151, 0.2107, 0.562, 0.6407, 0.3855, 1.2263, 1.2159, 1.2104, 1.2064, 1.195, 1.1791, 1.1663, 1.1623, 1.1623, 1.1371, 1.137, 1.137, 1.137, 1.1357, 1.1303, 1.1255, 1.1198, 1.0963, 1.0963, 1.0963, 1.0962, 1.0962, 1.0962, 1.0962, 1.0962, 1.0962, 1.0962, 1.0962, 1.0962, 1.0962, 1.0616, 1.0456, 1.0439, 0.7905, 0.8978, 1.0093, 0.8568, 0.6958, 0.8069, 0.6533, 0.8232, 0.8274, 0.9567, 0.8905, 0.7554, 0.5655, 0.8235, 0.7021, 0.0863, 0.8154, -0.2741, 0.4479, 0.5787, 0.6189, -0.2641, 0.3865, 0.4521, 0.4, -0.1034, 0.5681]}, \"token.table\": {\"Topic\": [1, 3, 1, 3, 3, 3, 2, 2, 3, 2, 3, 2, 1, 2, 3, 1, 2, 3, 3, 1, 2, 3, 1, 2, 3, 3, 2, 2, 2, 1, 1, 2, 3, 2, 1, 3, 2, 2, 3, 1, 2, 3, 1, 2, 3, 2, 2, 1, 2, 3, 1, 2, 3, 1, 3, 1, 3, 2, 2, 3, 2, 1, 2, 3, 1, 2, 3, 2, 1, 2, 3, 1, 2, 3, 3, 2, 3, 1, 3, 1, 3, 1, 2, 3, 1, 2, 3, 1, 1, 3, 2, 3, 1, 2, 3, 1, 1, 2, 2, 1, 2, 3, 3, 1, 2, 3, 1, 1, 2, 3, 1, 2, 3, 1, 2, 3, 3, 1, 2, 3, 2, 3, 3, 3, 1, 2, 1, 2, 3, 1, 2, 2, 1, 3, 1, 3, 2, 2, 3, 1, 2, 1, 3, 1, 1, 2, 3, 2, 1, 2, 3, 3, 1, 2, 3, 1, 3, 1, 3, 1, 3, 1, 3, 1, 2, 3, 1, 3, 1, 2, 1, 1, 3, 3, 2, 1, 2, 1, 1, 2, 3, 1, 3, 1, 1, 2, 1, 2, 2, 2, 1, 2, 3, 3, 1, 2, 2, 2, 3, 1, 3, 1, 2, 3, 2, 2, 1, 1, 2, 3, 1, 2, 3, 1, 2, 3, 1, 2, 1, 1, 1, 2, 3, 1, 1, 3, 1, 2, 1, 3, 3, 1, 1, 2, 3, 1, 1, 2, 3, 3, 1, 3, 3, 1, 2, 3, 1, 2, 1, 2, 3, 1, 2, 3, 1, 2, 1, 2, 3, 3, 1], \"Freq\": [0.999852497107747, 0.9678847140909543, 0.8676084205227382, 0.8120294269374496, 0.9031696722499494, 0.8120290430376508, 0.9312549049524173, 0.8976754051597334, 0.08160685501452121, 0.2684714640377115, 0.7159239041005641, 0.9958138856039408, 0.14908361867398348, 0.14908361867398348, 0.7454180933699174, 0.2862707696232072, 0.0954235898744024, 0.5725415392464144, 0.6756251409548536, 0.6539708724576916, 0.13079417449153832, 0.13079417449153832, 0.6543090721892708, 0.1869454491969345, 0.1869454491969345, 0.8120302683235403, 0.9764953164136331, 0.9550304598995119, 0.982195537896631, 0.7812829918323518, 0.6953711337012921, 0.26076417513798456, 0.08692139171266151, 0.8694772557678809, 0.6574300521411972, 0.21914335071373242, 0.9988213109288774, 0.19212268089482626, 0.768490723579305, 0.1338895935796448, 0.1338895935796448, 0.669447967898224, 0.4684831100800673, 0.32793817705604716, 0.18739324403202695, 0.9314248292754964, 0.9120617604110057, 0.5871478686767513, 0.32619326037597296, 0.0652386520751946, 0.2690938608261113, 0.43055017732177814, 0.2960032469087225, 0.13492580939603405, 0.8095548563762043, 0.7812798913598571, 0.8478535534067226, 0.9475235043652426, 0.9919999321659699, 0.6756248788312195, 0.9594024004032835, 0.2231385049979984, 0.1115692524989992, 0.6694155149939952, 0.46971704180503504, 0.41752625938225335, 0.10438156484556334, 0.9550284283655434, 0.3079084359942949, 0.2052722906628633, 0.5131807266571582, 0.47918304969843273, 0.23959152484921636, 0.29948940606152047, 0.8120291461315843, 0.30909111442602, 0.61818222885204, 0.867608165982113, 0.6756252067507608, 0.4747118913548585, 0.4747118913548585, 0.2861516142905151, 0.5049734369832619, 0.20198937479330478, 0.5123479937514286, 0.14638514107183676, 0.2927702821436735, 0.8676688985850745, 0.9292027916691162, 0.6756240460589703, 0.09665325382073323, 0.869879284386599, 0.48798044416176783, 0.0697114920231097, 0.41826895213865817, 0.7813158178820738, 0.8676021604321016, 0.9306390191474011, 0.966934663364284, 0.35165353110971237, 0.44542780607230237, 0.21099211866582743, 0.6756251363911494, 0.11278904116593748, 0.6391378999403123, 0.26317442938718744, 0.975346290284241, 0.4592336113343004, 0.32802400809592885, 0.19681440485755733, 0.4721610501379042, 0.3147740334252695, 0.2098493556168463, 0.5704865848905085, 0.3259923342231477, 0.08149808355578693, 0.9502346051940552, 0.7132282876348105, 0.17830707190870262, 0.11887138127246842, 0.6597572020502491, 0.293225423133444, 0.6756250453114738, 0.6756251318274454, 0.10017461640483517, 0.9015715476435165, 0.3600565991838852, 0.10801697975516557, 0.5400848987758279, 0.21684584739298485, 0.7806450506147454, 0.976978183798996, 0.5168640541344196, 0.5168640541344196, 0.781277473514703, 0.8117170322717563, 0.9979587449889998, 0.35752059595384145, 0.6256610429192225, 0.11318141596482727, 0.8488606197362044, 0.12294076422812487, 0.8605853495968742, 0.9753633884390314, 0.2650071994027565, 0.3312589992534456, 0.3975107991041347, 0.9979582214214241, 0.2753118570764784, 0.1179907958899193, 0.5899539794495965, 0.675625232526425, 0.5043706389081012, 0.3026223833448607, 0.20174825556324047, 0.871045616521173, 0.1451742694201955, 0.16855200269605025, 0.8427600134802513, 0.19239178434725152, 0.7695671373890061, 0.974657550334035, 0.6756247944812213, 0.17742618025119833, 0.35485236050239666, 0.532278540753595, 0.43138456329262137, 0.5490348987360636, 0.06509190205829778, 0.911286628816169, 0.7813648713854873, 0.7598977747791699, 0.20724484766704632, 0.6756245279585942, 0.9642661657739598, 0.8132746819822607, 0.16265493639645215, 0.9292211943907287, 0.6872993879932559, 0.20618981639797676, 0.1374598775986512, 0.9292027619130867, 0.6756252369130599, 0.8675916373019528, 0.11841675944920994, 0.8289173161444696, 0.15315686524055538, 0.8423627588230547, 0.9594432210350562, 0.868771235741019, 0.5644754229512913, 0.1881584743170971, 0.3135974571951618, 0.6756245719836005, 0.781282987882465, 0.8687693483425366, 0.8694748926807719, 0.9457391736685349, 0.0511210364145154, 0.16856926785184684, 0.8428463392592342, 0.24885626317099177, 0.6221406579274794, 0.12442813158549589, 0.931251793052508, 0.9474680833710227, 0.9774366605803679, 0.2948158085910484, 0.2948158085910484, 0.4422237128865726, 0.7822332962191588, 0.4017234102069853, 0.6695390170116422, 0.28164845439622765, 0.07041211359905691, 0.6337090223915122, 0.8671160555771866, 0.14451934259619778, 0.781280172043266, 0.7812812528714046, 0.6055085291781882, 0.10091808819636469, 0.20183617639272938, 0.9746574705823973, 0.8667811646159491, 0.9055736593081556, 0.20034712055417275, 0.801388482216691, 0.7505111794487423, 0.2814416922932784, 0.9031696842453218, 0.7812829918323518, 0.20949848082929082, 0.3491641347154847, 0.41899696165858163, 0.9774386735947251, 0.22849494060810033, 0.5141136163682257, 0.22849494060810033, 0.9399878342364101, 0.781277473514703, 0.9500711413688014, 0.9683577417932797, 0.5572601458664279, 0.4334245578961106, 0.8119948544529885, 0.9774375496715864, 0.9763795811116198, 0.12475054925217213, 0.7485032955130329, 0.12475054925217213, 0.28529849949074454, 0.19019899966049636, 0.47549749915124084, 0.9774382550031046, 0.9306388482559147, 0.6142395901439028, 0.08774851287770041, 0.26324553863310124, 0.6756245051401156, 0.9452444571258518], \"Term\": [\" \", \"airlangga\", \"alat\", \"antisipasi\", \"arifin\", \"arus\", \"awas\", \"baca\", \"baca\", \"badan\", \"badan\", \"bahuri\", \"bal\", \"bal\", \"bal\", \"bangun\", \"bangun\", \"bangun\", \"bmkg\", \"bri\", \"bri\", \"bri\", \"buka\", \"buka\", \"buka\", \"cadang\", \"calon\", \"capres\", \"cawapres\", \"ceko\", \"cerita\", \"cerita\", \"cerita\", \"city\", \"daerah\", \"daerah\", \"debat\", \"denpasar\", \"denpasar\", \"depok\", \"depok\", \"depok\", \"desember\", \"desember\", \"desember\", \"dewan\", \"dewas\", \"dunia\", \"dunia\", \"dunia\", \"ekonomi\", \"ekonomi\", \"ekonomi\", \"energi\", \"energi\", \"eropa\", \"esdm\", \"etik\", \"firli\", \"fungsi\", \"ganjar\", \"gaza\", \"gaza\", \"gaza\", \"gelar\", \"gelar\", \"gelar\", \"gibran\", \"global\", \"global\", \"global\", \"hadir\", \"hadir\", \"hadir\", \"hartarto\", \"hasil\", \"hasil\", \"indrawati\", \"internasional\", \"israel\", \"israel\", \"jakarta\", \"jakarta\", \"jakarta\", \"jalan\", \"jalan\", \"jalan\", \"jalur\", \"jasa\", \"jatim\", \"jatimjpnncom\", \"jatimjpnncom\", \"jawa\", \"jawa\", \"jawa\", \"jember\", \"jogjajpnncom\", \"joko\", \"jokowi\", \"jpnncom\", \"jpnncom\", \"jpnncom\", \"juanda\", \"jumat\", \"jumat\", \"jumat\", \"junior\", \"kait\", \"kait\", \"kait\", \"kamis\", \"kamis\", \"kamis\", \"keluarga\", \"keluarga\", \"keluarga\", \"kendara\", \"kerja\", \"kerja\", \"kerja\", \"ketua\", \"ketua\", \"kian\", \"klimatologi\", \"komisi\", \"komisi\", \"kota\", \"kota\", \"kota\", \"kpk\", \"kpk\", \"kpu\", \"libur\", \"libur\", \"liem\", \"live\", \"mahfud\", \"main\", \"main\", \"malam\", \"malam\", \"malang\", \"malang\", \"masuk\", \"masyarakat\", \"masyarakat\", \"masyarakat\", \"md\", \"menteri\", \"menteri\", \"menteri\", \"meteorologi\", \"milik\", \"milik\", \"milik\", \"mobil\", \"mobil\", \"motor\", \"motor\", \"mudik\", \"mudik\", \"mulyani\", \"narkotika\", \"nasional\", \"nasional\", \"nasional\", \"natal\", \"natal\", \"negara\", \"negara\", \"negaranegara\", \"negeri\", \"negeri\", \"nikita\", \"nomor\", \"ojk\", \"ojk\", \"optimis\", \"orang\", \"orang\", \"orang\", \"otoritas\", \"padat\", \"pamer\", \"pekan\", \"pekan\", \"pilih\", \"pilih\", \"pilpres\", \"pimpin\", \"polisi\", \"polisi\", \"polisi\", \"potret\", \"praha\", \"pranowo\", \"pranowomahfud\", \"presiden\", \"presiden\", \"pria\", \"pria\", \"putus\", \"putus\", \"putus\", \"raka\", \"rakabuming\", \"real\", \"ri\", \"ri\", \"ri\", \"ribu\", \"rilis\", \"rilis\", \"rupiah\", \"rupiah\", \"rupiah\", \"semarang\", \"semarang\", \"skincare\", \"solo\", \"sosial\", \"sosial\", \"sosial\", \"sri\", \"suami\", \"surabaya\", \"surat\", \"surat\", \"tarik\", \"tarik\", \"tasrif\", \"tembak\", \"temu\", \"temu\", \"temu\", \"thomas\", \"timnas\", \"timnas\", \"timnas\", \"timur\", \"titi\", \"triliun\", \"tugas\", \"uang\", \"uang\", \"ukm\", \"uni\", \"urut\", \"wakil\", \"wakil\", \"wakil\", \"warga\", \"warga\", \"warga\", \"warna\", \"widodo\", \"wilayah\", \"wilayah\", \"wilayah\", \"willy\", \"yogyakarta\"]}, \"R\": 30, \"lambda.step\": 0.01, \"plot.opts\": {\"xlab\": \"PC1\", \"ylab\": \"PC2\"}, \"topic.order\": [3, 1, 2]};\n",
              "\n",
              "function LDAvis_load_lib(url, callback){\n",
              "  var s = document.createElement('script');\n",
              "  s.src = url;\n",
              "  s.async = true;\n",
              "  s.onreadystatechange = s.onload = callback;\n",
              "  s.onerror = function(){console.warn(\"failed to load library \" + url);};\n",
              "  document.getElementsByTagName(\"head\")[0].appendChild(s);\n",
              "}\n",
              "\n",
              "if(typeof(LDAvis) !== \"undefined\"){\n",
              "   // already loaded: just create the visualization\n",
              "   !function(LDAvis){\n",
              "       new LDAvis(\"#\" + \"ldavis_el330140088607406816893821445\", ldavis_el330140088607406816893821445_data);\n",
              "   }(LDAvis);\n",
              "}else if(typeof define === \"function\" && define.amd){\n",
              "   // require.js is available: use it to load d3/LDAvis\n",
              "   require.config({paths: {d3: \"https://d3js.org/d3.v5\"}});\n",
              "   require([\"d3\"], function(d3){\n",
              "      window.d3 = d3;\n",
              "      LDAvis_load_lib(\"https://cdn.jsdelivr.net/gh/bmabey/pyLDAvis/pyLDAvis/js/ldavis.v3.0.0.js\", function(){\n",
              "        new LDAvis(\"#\" + \"ldavis_el330140088607406816893821445\", ldavis_el330140088607406816893821445_data);\n",
              "      });\n",
              "    });\n",
              "}else{\n",
              "    // require.js not available: dynamically load d3 & LDAvis\n",
              "    LDAvis_load_lib(\"https://d3js.org/d3.v5.js\", function(){\n",
              "         LDAvis_load_lib(\"https://cdn.jsdelivr.net/gh/bmabey/pyLDAvis/pyLDAvis/js/ldavis.v3.0.0.js\", function(){\n",
              "                 new LDAvis(\"#\" + \"ldavis_el330140088607406816893821445\", ldavis_el330140088607406816893821445_data);\n",
              "            })\n",
              "         });\n",
              "}\n",
              "</script>"
            ]
          },
          "metadata": {},
          "execution_count": 59
        }
      ]
    }
  ]
}